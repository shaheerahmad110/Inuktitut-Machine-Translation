{
  "cells": [
    {
      "cell_type": "code",
      "execution_count": 5,
      "metadata": {
        "colab": {
          "base_uri": "https://localhost:8080/"
        },
        "id": "uYybItev739n",
        "outputId": "33ee41c9-45fd-4173-c46a-3a09707608d9"
      },
      "outputs": [],
      "source": [
        "# !pip install einops\n",
        "# !pip install matplotlib"
      ]
    },
    {
      "cell_type": "code",
      "execution_count": null,
      "metadata": {
        "id": "iFprKc3JAza7"
      },
      "outputs": [],
      "source": [
        "## /content/drive/MyDrive/Text to Text/translation_english_data.docx\n",
        "\n",
        "## /content/drive/MyDrive/Text to Text/translation_inuktitut_data.docx"
      ]
    },
    {
      "cell_type": "markdown",
      "metadata": {
        "id": "2D2BXGhQuEKF"
      },
      "source": [
        "\n",
        "\n",
        "---\n",
        "\n",
        "\n",
        "\n",
        "---\n",
        "\n",
        "\n",
        "\n",
        "---\n",
        "\n"
      ]
    },
    {
      "cell_type": "code",
      "execution_count": 1,
      "metadata": {
        "id": "D0sc5iD06B3D"
      },
      "outputs": [],
      "source": [
        "import pandas as pd\n",
        "import numpy as np\n",
        "\n",
        "import numpy as np\n",
        "\n",
        "import typing\n",
        "from typing import Any, Tuple\n",
        "\n",
        "import einops\n",
        "import matplotlib.pyplot as plt\n",
        "import matplotlib.ticker as ticker\n",
        "\n",
        "import tensorflow as tf"
      ]
    },
    {
      "cell_type": "code",
      "execution_count": 2,
      "metadata": {
        "id": "PN9UQ5F0798Y"
      },
      "outputs": [],
      "source": [
        "#@title\n",
        "class ShapeChecker():\n",
        "  def __init__(self):\n",
        "    # Keep a cache of every axis-name seen\n",
        "    self.shapes = {}\n",
        "\n",
        "  def __call__(self, tensor, names, broadcast=False):\n",
        "    if not tf.executing_eagerly():\n",
        "      return\n",
        "\n",
        "    parsed = einops.parse_shape(tensor, names)\n",
        "\n",
        "    for name, new_dim in parsed.items():\n",
        "      old_dim = self.shapes.get(name, None)\n",
        "      \n",
        "      if (broadcast and new_dim == 1):\n",
        "        continue\n",
        "\n",
        "      if old_dim is None:\n",
        "        # If the axis name is new, add its length to the cache.\n",
        "        self.shapes[name] = new_dim\n",
        "        continue\n",
        "\n",
        "      if new_dim != old_dim:\n",
        "        raise ValueError(f\"Shape mismatch for dimension: '{name}'\\n\"\n",
        "                         f\"    found: {new_dim}\\n\"\n",
        "                         f\"    expected: {old_dim}\\n\")"
      ]
    },
    {
      "cell_type": "code",
      "execution_count": 3,
      "metadata": {},
      "outputs": [
        {
          "data": {
            "text/html": [
              "<div>\n",
              "<style scoped>\n",
              "    .dataframe tbody tr th:only-of-type {\n",
              "        vertical-align: middle;\n",
              "    }\n",
              "\n",
              "    .dataframe tbody tr th {\n",
              "        vertical-align: top;\n",
              "    }\n",
              "\n",
              "    .dataframe thead th {\n",
              "        text-align: right;\n",
              "    }\n",
              "</style>\n",
              "<table border=\"1\" class=\"dataframe\">\n",
              "  <thead>\n",
              "    <tr style=\"text-align: right;\">\n",
              "      <th></th>\n",
              "      <th>English</th>\n",
              "      <th>inuktitut</th>\n",
              "    </tr>\n",
              "  </thead>\n",
              "  <tbody>\n",
              "    <tr>\n",
              "      <th>0</th>\n",
              "      <td>hello</td>\n",
              "      <td>, ᐊᐃ’</td>\n",
              "    </tr>\n",
              "    <tr>\n",
              "      <th>1</th>\n",
              "      <td>\"A\" is the first letter of the alphabet.</td>\n",
              "      <td>, \"A\" , ᓯᕗᓪᓕᖅᐹᖑᕗᖅ , ᑎᑎᖅᑲᖅ , alphabet−ᒥᑦ.</td>\n",
              "    </tr>\n",
              "    <tr>\n",
              "      <th>2</th>\n",
              "      <td>\"Are those your books?\" \"No, they aren't.\"</td>\n",
              "      <td>, \"ᑖᒃᑯᐊ , ᐅᖃᓕᒫᒐᖁᑎᑎᑦ?\" , \"ᐋᒃᑲ, , ᑕᐃᒪᐃᙱᑦᑐᑦ.\"</td>\n",
              "    </tr>\n",
              "    <tr>\n",
              "      <th>3</th>\n",
              "      <td>\"Are you from Australia?\" asked the Filipino.</td>\n",
              "      <td>, \" , ᐋᔅᑐᕇᓕᐊᒥᙶᖅᐱᑦ?\" , ᐊᐱᕆᓪᓗᑎᑦ , ᐱᓕᐲᓄᒥᑦ.</td>\n",
              "    </tr>\n",
              "    <tr>\n",
              "      <th>4</th>\n",
              "      <td>\"Could you move over a little?\" \"Oh, sorry. I ...</td>\n",
              "      <td>, \"ᓅᓚᐅᑲᒍᓐᓇᖅᐲᑦ?\" , \"ᒪᒥᐊᓇᖅ. , ᐅᔾᔨᕈᓱᓚᐅᙱᑦᑐᖓ , ᐃᓂᒃ...</td>\n",
              "    </tr>\n",
              "    <tr>\n",
              "      <th>...</th>\n",
              "      <td>...</td>\n",
              "      <td>...</td>\n",
              "    </tr>\n",
              "    <tr>\n",
              "      <th>103958</th>\n",
              "      <td>Zebras have stripes.</td>\n",
              "      <td>0</td>\n",
              "    </tr>\n",
              "    <tr>\n",
              "      <th>103959</th>\n",
              "      <td>Zero comes before one.</td>\n",
              "      <td>0</td>\n",
              "    </tr>\n",
              "    <tr>\n",
              "      <th>103960</th>\n",
              "      <td>Zero is a special number.</td>\n",
              "      <td>0</td>\n",
              "    </tr>\n",
              "    <tr>\n",
              "      <th>103961</th>\n",
              "      <td>Zimbabwe was once a colony of Britain.</td>\n",
              "      <td>0</td>\n",
              "    </tr>\n",
              "    <tr>\n",
              "      <th>103962</th>\n",
              "      <td>Zucchinis are green.</td>\n",
              "      <td>0</td>\n",
              "    </tr>\n",
              "  </tbody>\n",
              "</table>\n",
              "<p>103963 rows × 2 columns</p>\n",
              "</div>"
            ],
            "text/plain": [
              "                                                  English  \\\n",
              "0                                                   hello   \n",
              "1                \"A\" is the first letter of the alphabet.   \n",
              "2              \"Are those your books?\" \"No, they aren't.\"   \n",
              "3           \"Are you from Australia?\" asked the Filipino.   \n",
              "4       \"Could you move over a little?\" \"Oh, sorry. I ...   \n",
              "...                                                   ...   \n",
              "103958                               Zebras have stripes.   \n",
              "103959                             Zero comes before one.   \n",
              "103960                          Zero is a special number.   \n",
              "103961             Zimbabwe was once a colony of Britain.   \n",
              "103962                               Zucchinis are green.   \n",
              "\n",
              "                                                inuktitut  \n",
              "0                                                   , ᐊᐃ’  \n",
              "1                , \"A\" , ᓯᕗᓪᓕᖅᐹᖑᕗᖅ , ᑎᑎᖅᑲᖅ , alphabet−ᒥᑦ.  \n",
              "2              , \"ᑖᒃᑯᐊ , ᐅᖃᓕᒫᒐᖁᑎᑎᑦ?\" , \"ᐋᒃᑲ, , ᑕᐃᒪᐃᙱᑦᑐᑦ.\"  \n",
              "3                 , \" , ᐋᔅᑐᕇᓕᐊᒥᙶᖅᐱᑦ?\" , ᐊᐱᕆᓪᓗᑎᑦ , ᐱᓕᐲᓄᒥᑦ.  \n",
              "4        , \"ᓅᓚᐅᑲᒍᓐᓇᖅᐲᑦ?\" , \"ᒪᒥᐊᓇᖅ. , ᐅᔾᔨᕈᓱᓚᐅᙱᑦᑐᖓ , ᐃᓂᒃ...  \n",
              "...                                                   ...  \n",
              "103958                                                  0  \n",
              "103959                                                  0  \n",
              "103960                                                  0  \n",
              "103961                                                  0  \n",
              "103962                                                  0  \n",
              "\n",
              "[103963 rows x 2 columns]"
            ]
          },
          "execution_count": 3,
          "metadata": {},
          "output_type": "execute_result"
        }
      ],
      "source": [
        "df=pd.read_csv('parallel_71414.csv')\n",
        "df"
      ]
    },
    {
      "cell_type": "code",
      "execution_count": 4,
      "metadata": {
        "colab": {
          "base_uri": "https://localhost:8080/",
          "height": 424
        },
        "id": "TZexgq0C6Dnw",
        "outputId": "50aaa532-dea0-47e7-b854-b1b6319ae0a8"
      },
      "outputs": [
        {
          "data": {
            "text/html": [
              "<div>\n",
              "<style scoped>\n",
              "    .dataframe tbody tr th:only-of-type {\n",
              "        vertical-align: middle;\n",
              "    }\n",
              "\n",
              "    .dataframe tbody tr th {\n",
              "        vertical-align: top;\n",
              "    }\n",
              "\n",
              "    .dataframe thead th {\n",
              "        text-align: right;\n",
              "    }\n",
              "</style>\n",
              "<table border=\"1\" class=\"dataframe\">\n",
              "  <thead>\n",
              "    <tr style=\"text-align: right;\">\n",
              "      <th></th>\n",
              "      <th>English</th>\n",
              "      <th>inuktitut</th>\n",
              "    </tr>\n",
              "  </thead>\n",
              "  <tbody>\n",
              "    <tr>\n",
              "      <th>0</th>\n",
              "      <td>hello</td>\n",
              "      <td>, ᐊᐃ’</td>\n",
              "    </tr>\n",
              "    <tr>\n",
              "      <th>1</th>\n",
              "      <td>\"A\" is the first letter of the alphabet.</td>\n",
              "      <td>, \"A\" , ᓯᕗᓪᓕᖅᐹᖑᕗᖅ , ᑎᑎᖅᑲᖅ , alphabet−ᒥᑦ.</td>\n",
              "    </tr>\n",
              "    <tr>\n",
              "      <th>2</th>\n",
              "      <td>\"Are those your books?\" \"No, they aren't.\"</td>\n",
              "      <td>, \"ᑖᒃᑯᐊ , ᐅᖃᓕᒫᒐᖁᑎᑎᑦ?\" , \"ᐋᒃᑲ, , ᑕᐃᒪᐃᙱᑦᑐᑦ.\"</td>\n",
              "    </tr>\n",
              "    <tr>\n",
              "      <th>3</th>\n",
              "      <td>\"Are you from Australia?\" asked the Filipino.</td>\n",
              "      <td>, \" , ᐋᔅᑐᕇᓕᐊᒥᙶᖅᐱᑦ?\" , ᐊᐱᕆᓪᓗᑎᑦ , ᐱᓕᐲᓄᒥᑦ.</td>\n",
              "    </tr>\n",
              "    <tr>\n",
              "      <th>4</th>\n",
              "      <td>\"Could you move over a little?\" \"Oh, sorry. I ...</td>\n",
              "      <td>, \"ᓅᓚᐅᑲᒍᓐᓇᖅᐲᑦ?\" , \"ᒪᒥᐊᓇᖅ. , ᐅᔾᔨᕈᓱᓚᐅᙱᑦᑐᖓ , ᐃᓂᒃ...</td>\n",
              "    </tr>\n",
              "    <tr>\n",
              "      <th>...</th>\n",
              "      <td>...</td>\n",
              "      <td>...</td>\n",
              "    </tr>\n",
              "    <tr>\n",
              "      <th>71174</th>\n",
              "      <td>Tom has begun to learn French.</td>\n",
              "      <td>, ᑖᒻ , ᐃᓕᓐᓂᐊᖅᐸᓪᓕᐊᓕᖅᑐᖅ , ᐅᐃᕖᑎᑐᑦ.</td>\n",
              "    </tr>\n",
              "    <tr>\n",
              "      <th>71175</th>\n",
              "      <td>Tom has begun writing a new book.</td>\n",
              "      <td>, ᑖᒻ , ᑎᑎᕋᖅᐸᓪᓕᐊᓕᖅᑐᖅ , ᓄᑖᒥᒃ , ᐅᖃᓕᒫᒐᕐᒥᒃ.</td>\n",
              "    </tr>\n",
              "    <tr>\n",
              "      <th>71176</th>\n",
              "      <td>Tom has betrayed me.</td>\n",
              "      <td>, ᑖᒻ , ᐅᕙᓐᓄᑦ , ᑐᓱᒋᔭᐅᓯᒪᕚᖓ.</td>\n",
              "    </tr>\n",
              "    <tr>\n",
              "      <th>71177</th>\n",
              "      <td>Tom has betrayed us.</td>\n",
              "      <td>, ᑖᒻ , ᑐᓱᕋᖅᑕᐅᔪᖅ.</td>\n",
              "    </tr>\n",
              "    <tr>\n",
              "      <th>71178</th>\n",
              "      <td>Tom has big ears.</td>\n",
              "      <td>, ᑖᒻ , ᓯᐅᑎᕐᔪᐊᓕᒃ.</td>\n",
              "    </tr>\n",
              "  </tbody>\n",
              "</table>\n",
              "<p>71179 rows × 2 columns</p>\n",
              "</div>"
            ],
            "text/plain": [
              "                                                 English  \\\n",
              "0                                                  hello   \n",
              "1               \"A\" is the first letter of the alphabet.   \n",
              "2             \"Are those your books?\" \"No, they aren't.\"   \n",
              "3          \"Are you from Australia?\" asked the Filipino.   \n",
              "4      \"Could you move over a little?\" \"Oh, sorry. I ...   \n",
              "...                                                  ...   \n",
              "71174                     Tom has begun to learn French.   \n",
              "71175                  Tom has begun writing a new book.   \n",
              "71176                               Tom has betrayed me.   \n",
              "71177                               Tom has betrayed us.   \n",
              "71178                                  Tom has big ears.   \n",
              "\n",
              "                                               inuktitut  \n",
              "0                                                  , ᐊᐃ’  \n",
              "1               , \"A\" , ᓯᕗᓪᓕᖅᐹᖑᕗᖅ , ᑎᑎᖅᑲᖅ , alphabet−ᒥᑦ.  \n",
              "2             , \"ᑖᒃᑯᐊ , ᐅᖃᓕᒫᒐᖁᑎᑎᑦ?\" , \"ᐋᒃᑲ, , ᑕᐃᒪᐃᙱᑦᑐᑦ.\"  \n",
              "3                , \" , ᐋᔅᑐᕇᓕᐊᒥᙶᖅᐱᑦ?\" , ᐊᐱᕆᓪᓗᑎᑦ , ᐱᓕᐲᓄᒥᑦ.  \n",
              "4       , \"ᓅᓚᐅᑲᒍᓐᓇᖅᐲᑦ?\" , \"ᒪᒥᐊᓇᖅ. , ᐅᔾᔨᕈᓱᓚᐅᙱᑦᑐᖓ , ᐃᓂᒃ...  \n",
              "...                                                  ...  \n",
              "71174                    , ᑖᒻ , ᐃᓕᓐᓂᐊᖅᐸᓪᓕᐊᓕᖅᑐᖅ , ᐅᐃᕖᑎᑐᑦ.  \n",
              "71175             , ᑖᒻ , ᑎᑎᕋᖅᐸᓪᓕᐊᓕᖅᑐᖅ , ᓄᑖᒥᒃ , ᐅᖃᓕᒫᒐᕐᒥᒃ.  \n",
              "71176                          , ᑖᒻ , ᐅᕙᓐᓄᑦ , ᑐᓱᒋᔭᐅᓯᒪᕚᖓ.  \n",
              "71177                                   , ᑖᒻ , ᑐᓱᕋᖅᑕᐅᔪᖅ.  \n",
              "71178                                   , ᑖᒻ , ᓯᐅᑎᕐᔪᐊᓕᒃ.  \n",
              "\n",
              "[71179 rows x 2 columns]"
            ]
          },
          "execution_count": 4,
          "metadata": {},
          "output_type": "execute_result"
        }
      ],
      "source": [
        "df=pd.read_csv('parallel_data.csv')\n",
        "df"
      ]
    },
    {
      "cell_type": "code",
      "execution_count": 5,
      "metadata": {
        "colab": {
          "base_uri": "https://localhost:8080/"
        },
        "id": "umClb5_a6UV4",
        "outputId": "17b3a63c-f7d9-4afc-c6ef-b94b355cad4b"
      },
      "outputs": [
        {
          "data": {
            "text/plain": [
              "(71179, 2)"
            ]
          },
          "execution_count": 5,
          "metadata": {},
          "output_type": "execute_result"
        }
      ],
      "source": [
        "df.shape"
      ]
    },
    {
      "cell_type": "code",
      "execution_count": 75,
      "metadata": {
        "colab": {
          "base_uri": "https://localhost:8080/"
        },
        "id": "7y9Q4T7U6VyX",
        "outputId": "15fca26c-1fb3-4a96-cfd9-0656f8e6799b"
      },
      "outputs": [
        {
          "data": {
            "text/plain": [
              "array(['hello', '\"A\" is the first letter of the alphabet.',\n",
              "       '\"Are those your books?\" \"No, they aren\\'t.\"', ...,\n",
              "       'Tom has betrayed me.', 'Tom has betrayed us.',\n",
              "       'Tom has big ears.'], dtype=object)"
            ]
          },
          "execution_count": 75,
          "metadata": {},
          "output_type": "execute_result"
        }
      ],
      "source": [
        "context_raw=np.array(df['English'])\n",
        "context_raw"
      ]
    },
    {
      "cell_type": "code",
      "execution_count": 81,
      "metadata": {
        "colab": {
          "base_uri": "https://localhost:8080/"
        },
        "id": "vicSMNJv7cWP",
        "outputId": "0929c13e-3e65-4027-f220-f77684e30caf"
      },
      "outputs": [
        {
          "data": {
            "text/plain": [
              "array([' , ᐊᐃ’', ' , \"A\" , ᓯᕗᓪᓕᖅᐹᖑᕗᖅ , ᑎᑎᖅᑲᖅ , alphabet−ᒥᑦ.',\n",
              "       ' , \"ᑖᒃᑯᐊ , ᐅᖃᓕᒫᒐᖁᑎᑎᑦ?\" , \"ᐋᒃᑲ, , ᑕᐃᒪᐃᙱᑦᑐᑦ.\"', ...,\n",
              "       ' , ᑖᒻ , ᐅᕙᓐᓄᑦ , ᑐᓱᒋᔭᐅᓯᒪᕚᖓ.', ' , ᑖᒻ , ᑐᓱᕋᖅᑕᐅᔪᖅ.',\n",
              "       ' , ᑖᒻ , ᓯᐅᑎᕐᔪᐊᓕᒃ.'], dtype=object)"
            ]
          },
          "execution_count": 81,
          "metadata": {},
          "output_type": "execute_result"
        }
      ],
      "source": [
        "target_raw=np.array(df['inuktitut'])\n",
        "target_raw"
      ]
    },
    {
      "cell_type": "code",
      "execution_count": 82,
      "metadata": {
        "colab": {
          "base_uri": "https://localhost:8080/"
        },
        "id": "WwOB5nYC7jY2",
        "outputId": "690b5064-4d61-4065-d352-345450bd1d3d"
      },
      "outputs": [
        {
          "name": "stdout",
          "output_type": "stream",
          "text": [
            "(71179,) (71179,)\n"
          ]
        }
      ],
      "source": [
        "print(context_raw.shape,target_raw.shape)"
      ]
    },
    {
      "cell_type": "code",
      "execution_count": 83,
      "metadata": {
        "id": "MD6tVxzk7pIM"
      },
      "outputs": [],
      "source": [
        "BUFFER_SIZE = len(context_raw)\n",
        "BATCH_SIZE = 20\n",
        "\n",
        "is_train = np.random.uniform(size=(len(target_raw),)) < 0.8\n",
        "\n",
        "train_raw = (\n",
        "    tf.data.Dataset\n",
        "    .from_tensor_slices((context_raw[is_train], target_raw[is_train]))\n",
        "    .shuffle(BUFFER_SIZE)\n",
        "    .batch(BATCH_SIZE))\n",
        "val_raw = (\n",
        "    tf.data.Dataset\n",
        "    .from_tensor_slices((context_raw[~is_train], target_raw[~is_train]))\n",
        "    .shuffle(BUFFER_SIZE)\n",
        "    .batch(BATCH_SIZE))"
      ]
    },
    {
      "cell_type": "code",
      "execution_count": 84,
      "metadata": {
        "colab": {
          "base_uri": "https://localhost:8080/"
        },
        "id": "HzMsYT2yCR-o",
        "outputId": "dfd105e4-90fe-43f3-a523-bde9f224dc46"
      },
      "outputs": [
        {
          "name": "stdout",
          "output_type": "stream",
          "text": [
            "tf.Tensor(\n",
            "[b'I had a good time in Boston.' b\"I'll be there in a moment.\"\n",
            " b\"He's always joking.\" b'Do you know anyone here?'\n",
            " b'I know what it means.'], shape=(5,), dtype=string)\n",
            "\n",
            "tf.Tensor(\n",
            "[b' , \\xe1\\x96\\x81\\xe1\\x95\\x95\\xe1\\x90\\x8a\\xe1\\x93\\xb1\\xe1\\x93\\x9a\\xe1\\x90\\x85\\xe1\\x96\\x85\\xe1\\x91\\x90\\xe1\\x96\\x93 , \\xe1\\x90\\xb9\\xe1\\x94\\x85\\xe1\\x91\\x95\\xe1\\x93\\x90\\xe1\\x92\\xa5.'\n",
            " b' , \\xe1\\x91\\x95\\xe1\\x90\\x83\\xe1\\x91\\xb2\\xe1\\x93\\x83\\xe1\\x91\\xb2\\xe1\\x90\\x83\\xe1\\x93\\x90\\xe1\\x93\\x87\\xe1\\x95\\x90\\xe1\\x93\\x82\\xe1\\x90\\x8a\\xe1\\x95\\x8b\\xe1\\x92\\xaa.'\n",
            " b' , \\xe1\\x92\\xa5\\xe1\\x91\\x95\\xe1\\x90\\x85\\xe1\\x91\\x8e\\xe1\\x92\\x8b\\xe1\\x96\\x83\\xe1\\x91\\xa6\\xe1\\x91\\x95\\xe1\\x96\\x85\\xe1\\x91\\x95\\xe1\\x96\\x93.'\n",
            " b' , \\xe1\\x96\\x83\\xe1\\x90\\x85\\xe1\\x94\\xa8\\xe1\\x92\\xaa\\xe1\\x94\\xad\\xe1\\x96\\x83\\xe1\\x96\\x85\\xe1\\x90\\xb2\\xe1\\x91\\xa6 , \\xe1\\x91\\xad\\xe1\\x93\\x87\\xe1\\x92\\xa5\\xe1\\x91\\xad\\xe1\\x90\\x8a\\xe1\\x96\\x85 , \\xe1\\x90\\x85\\xe1\\x95\\x99\\xe1\\x93\\x83\\xe1\\x91\\x90\\xe1\\x92\\xa5\\xe1\\x92\\x83?'\n",
            " b' , \\xe1\\x96\\x83\\xe1\\x90\\x85\\xe1\\x94\\xa8\\xe1\\x92\\xaa\\xe1\\x94\\xaa\\xe1\\x96\\x93 , \\xe1\\x96\\x83\\xe1\\x93\\x84\\xe1\\x96\\x85 , \\xe1\\x91\\x90\\xe1\\x91\\xad\\xe1\\x96\\x83\\xe1\\x95\\x90\\xe1\\x92\\xaa\\xe1\\x96\\x94\\xe1\\x96\\x85.'], shape=(5,), dtype=string)\n"
          ]
        }
      ],
      "source": [
        "for example_context_strings, example_target_strings in train_raw.take(1):\n",
        "  print(example_context_strings[:5])\n",
        "  print()\n",
        "  print(example_target_strings[:5])\n",
        "  break"
      ]
    },
    {
      "cell_type": "markdown",
      "metadata": {
        "id": "zAYRC243C8Qj"
      },
      "source": [
        "Unicode normalization will be the first step in the text standardization function:"
      ]
    },
    {
      "cell_type": "code",
      "execution_count": 85,
      "metadata": {
        "id": "FHReGAm8CYwG"
      },
      "outputs": [],
      "source": [
        "def tf_lower_and_split_punct(text):\n",
        "  # Split accented characters.\n",
        "  #text = tf_text.normalize_utf8(text, 'NFKD')\n",
        "  text = tf.strings.lower(text)\n",
        "  # Keep space, a to z, and select punctuation.\n",
        "  text = tf.strings.regex_replace(text, '[^ a-z.?!,¿]', '')\n",
        "  # Add spaces around punctuation.\n",
        "  text = tf.strings.regex_replace(text, '[.?!,¿]', r' \\0 ')\n",
        "  # Strip whitespace.\n",
        "  text = tf.strings.strip(text)\n",
        "\n",
        "  text = tf.strings.join(['[START]', text, '[END]'], separator=' ')\n",
        "  return text"
      ]
    },
    {
      "cell_type": "code",
      "execution_count": 86,
      "metadata": {
        "id": "Si9779BUEiva"
      },
      "outputs": [],
      "source": [
        "def tf_lower_and_split_punct_inuktitut(text):\n",
        "  text = tf.strings.join(['[START]', text, '[END]'], separator=' ')\n",
        "  return text"
      ]
    },
    {
      "cell_type": "markdown",
      "metadata": {
        "id": "eUoXNYGIDIKJ"
      },
      "source": [
        "#### Text Vectorization"
      ]
    },
    {
      "cell_type": "markdown",
      "metadata": {
        "id": "Fo-kQRT-DJEr"
      },
      "source": [
        "This standardization function will be wrapped up in a `tf.keras.layers.TextVectorization` layer which will handle the vocabulary extraction and conversion of input text to sequences of tokens."
      ]
    },
    {
      "cell_type": "code",
      "execution_count": 87,
      "metadata": {
        "id": "SaRdpAd0DFQ0"
      },
      "outputs": [],
      "source": [
        "max_vocab_size = 5000\n",
        "\n",
        "context_text_processor = tf.keras.layers.TextVectorization(\n",
        "    standardize=tf_lower_and_split_punct,\n",
        "    max_tokens=max_vocab_size,\n",
        "    ragged=True)"
      ]
    },
    {
      "cell_type": "code",
      "execution_count": 88,
      "metadata": {
        "colab": {
          "base_uri": "https://localhost:8080/"
        },
        "id": "VSXyZFCrDa_G",
        "outputId": "ec75447e-b412-4fbb-e03c-0f6b6570d585"
      },
      "outputs": [
        {
          "data": {
            "text/plain": [
              "['', '[UNK]', '[START]', '[END]', '.', 'i', 'tom', 'to', 'the', 'you']"
            ]
          },
          "execution_count": 88,
          "metadata": {},
          "output_type": "execute_result"
        }
      ],
      "source": [
        "context_text_processor.adapt(train_raw.map(lambda context, target: context))\n",
        "\n",
        "# Here are the first 10 words from the vocabulary:\n",
        "context_text_processor.get_vocabulary()[:10]"
      ]
    },
    {
      "cell_type": "code",
      "execution_count": 89,
      "metadata": {
        "colab": {
          "base_uri": "https://localhost:8080/"
        },
        "id": "V7fnArDvDiK5",
        "outputId": "dd856945-1d20-426f-f4a8-32de1057ab71"
      },
      "outputs": [
        {
          "data": {
            "text/plain": [
              "['', '[UNK]', ',', '[START]', '[END]', 'ᑖᒻ', 'ᑕᒪᓐᓇ', 'ᑖᓐᓇ', 'ᒥᐊᓕ', 'ᖃᓄᖅ']"
            ]
          },
          "execution_count": 89,
          "metadata": {},
          "output_type": "execute_result"
        }
      ],
      "source": [
        "target_text_processor = tf.keras.layers.TextVectorization(\n",
        "    standardize=tf_lower_and_split_punct_inuktitut,\n",
        "    max_tokens=max_vocab_size,\n",
        "    ragged=True)\n",
        "\n",
        "target_text_processor.adapt(train_raw.map(lambda context, target: target))\n",
        "target_text_processor.get_vocabulary()[:10]"
      ]
    },
    {
      "cell_type": "code",
      "execution_count": 90,
      "metadata": {},
      "outputs": [
        {
          "data": {
            "text/plain": [
              "['',\n",
              " '[UNK]',\n",
              " ',',\n",
              " '[START]',\n",
              " '[END]',\n",
              " 'ᑖᒻ',\n",
              " 'ᑕᒪᓐᓇ',\n",
              " 'ᑖᓐᓇ',\n",
              " 'ᒥᐊᓕ',\n",
              " 'ᖃᓄᖅ',\n",
              " 'ᐊᒻᒪ',\n",
              " 'ᖃᐅᔨᒪᔪᖓ',\n",
              " 'ᓱᓕ',\n",
              " 'ᑖᒻ.',\n",
              " 'ᑭᓯᐊᓂ',\n",
              " 'ᖃᐅᔨᔪᒪᕗᖓ',\n",
              " 'ᐅᐃᕖᑎᑐᑦ',\n",
              " 'ᑖᒃᑯᐊ',\n",
              " 'ᐅᓪᓗᒥ',\n",
              " 'ᑭᒃᑯᓕᒫᑦ',\n",
              " 'ᑖᒻᒥᒃ.',\n",
              " 'ᖃᐅᔨᒪᕕᑦ',\n",
              " 'ᐃᓄᐃᑦ',\n",
              " 'ᐅᕙᓐᓄᑦ',\n",
              " 'ᒫᓐᓇ',\n",
              " 'ᑖᒻᓗ',\n",
              " 'ᐊᒻᒪᓗ',\n",
              " 'ᖃᐅᑉᐸᑦ',\n",
              " 'ᒥᐊᓕᒥᒃ',\n",
              " 'ᑖᒥ',\n",
              " 'ᑖᒻᐅᑉ',\n",
              " 'ᐱᐅᒋᔭᕋ.',\n",
              " 'ᐅᕙᓐᓂᒃ',\n",
              " 'ᐃᒻᒪᖃ',\n",
              " 'ᒥᐊᓕᐅᑉ',\n",
              " 'ᖃᓄᕐᓕ',\n",
              " 'ᒥᐊᓕᒥᒃ.',\n",
              " 'ᓇᒻᒥᓂᖅ',\n",
              " 'ᐊᒥᓱᓂᒃ',\n",
              " 'ᑕᒪᕐᒥᒃ',\n",
              " 'ᐱᐅᒋᔭᕋ',\n",
              " 'ᑖᒻᒧᑦ.',\n",
              " 'ᑕᐃᓐᓇ',\n",
              " 'ᑖᒻᒧᑦ',\n",
              " 'ᐅᖃᓕᒫᒐᖅ',\n",
              " 'ᐅᓇ',\n",
              " 'ᓄᑖᒥᒃ',\n",
              " 'ᐊᒃᓱᐊᓗᒃ',\n",
              " 'ᑭᓇᑐᐃᓐᓇᖅ',\n",
              " 'ᓂᖀᑦ',\n",
              " 'ᖃᓄᐃᒻᒪᑦ',\n",
              " 'ᑖᒻ?',\n",
              " 'ᖃᓄᑎᒋ',\n",
              " 'ᐅᓪᓗᒥ.',\n",
              " 'ᐊᑖᑕᒐ',\n",
              " 'ᖃᔅᓯᓂᒃ',\n",
              " 'ᐅᕙᖓ',\n",
              " 'ᐄ,',\n",
              " 'ᖃᐅᔨᒪᓐᖏᓚᖓ',\n",
              " 'ᐃᓱᒪᕖᑦ',\n",
              " 'ᐱᖓᓱᓂᒃ',\n",
              " 'ᒥᐊᓕ.',\n",
              " 'ᖁᔭᓐᓇᒦᒃ',\n",
              " 'ᒪᕐᕉᓐᓂᒃ',\n",
              " 'ᑕᐃᒫᒃ',\n",
              " 'ᐊᑯᓂᐅᑎᒋᔪᖅ',\n",
              " 'ᑖᒻᒥᒃ',\n",
              " 'ᐅᓐᓄᒃ.',\n",
              " 'ᐋᒡᒐᓘᓐᓃᑦ.',\n",
              " 'ᖃᓪᓗᓈᑎᑐᑦ',\n",
              " 'ᐅᐃᕖᑎᑐᑦ.',\n",
              " 'ᖃᐅᔨᒪᙱᑦᑐᖓ',\n",
              " 'ᖃᐅᔨᒪᓚᐅᙱᓐᓇᒪ',\n",
              " 'ᒫᓐᓇ.',\n",
              " 'ᑕᐃᒪᓐᓇ',\n",
              " 'ᑕᕝᕙᓂ',\n",
              " 'ᐃᓕᖕᓂᒃ',\n",
              " 'ᕿᒻᒥᖅ',\n",
              " 'ᐅᕙᓐᓄᑦ.',\n",
              " 'ᑐᓂᓯᓚᐅᖅᑐᖅ',\n",
              " 'ᖃᐅᔨᒪᓚᐅᖅᑐᖓ',\n",
              " 'ᒥᒃᓵᓄᑦ.',\n",
              " 'ᑲᓇᑕᐅᑉ',\n",
              " 'ᐃᓚᖏᑦ',\n",
              " 'ᐅᖃᐅᑎᓚᐅᖅᑕᕋ',\n",
              " 'ᐅᖃᐅᑎᓗᒍ',\n",
              " 'ᐅᕝᕙᓘᓐᓃᑦ',\n",
              " 'ᐅᕙᑦᑎᓐᓂᒃ.',\n",
              " 'ᒥᐊᓕᒧᑦ.',\n",
              " 'ᑕᒫᓂ',\n",
              " 'ᐹᔅᑕᓐᒥ.',\n",
              " 'ᒪᒥᐊᓇᖅ',\n",
              " 'ᐊᐱᕆᓚᐅᖅᑐᖅ',\n",
              " 'ᐃᓕᓐᓂᒃ.',\n",
              " 'ᑮᓇᐅᔭᓂᒃ',\n",
              " 'ᐃᒻᒥᓂᒃ',\n",
              " 'ᒪᒥᐊᓇᖅ,',\n",
              " 'ᑭᓱᓕᒫᑦ',\n",
              " 'ᖃᐅᑕᒫᑦ',\n",
              " 'ᓂᐅᕕᓚᐅᖅᑐᖅ',\n",
              " 'ᖃᓄᑐᐃᓐᓇᖅ',\n",
              " 'ᑭᓇ',\n",
              " 'ᐸᓖᓯᒃᑯᑦ',\n",
              " 'ᐊᒥᓱᑦ',\n",
              " 'ᐊᓈᓇᒐ',\n",
              " 'ᐃᓱᒪᖅᑲᐅᒐᒪ',\n",
              " 'ᒥᐊᓕᒧᑦ',\n",
              " 'ᐅᖃᐅᓰᑦ',\n",
              " 'ᑕᐃᒃᑯᐊ',\n",
              " 'ᓱᒻᒪᑦ',\n",
              " 'ᓄᑕᖅᑲᑦ',\n",
              " 'ᖃᐅᔨᒪᙱᑦᑐᖅ',\n",
              " 'ᖃᐅᑉᐸᑦ.',\n",
              " 'ᐹᖓ',\n",
              " 'ᐱᐅᙱᒻᒪᑦ.',\n",
              " 'ᐅᕙᓐᓂᒃ.',\n",
              " 'ᖃᐅᔨᒪᓚᐅᖏᑦᑐᖓ',\n",
              " 'ᓂᖀᑦ.',\n",
              " 'ᑕᕝᕙ',\n",
              " 'ᐱᖓᓱᑦ',\n",
              " 'ᐊᑎᖓ',\n",
              " 'ᓱᓕᔪᒥᑦ',\n",
              " 'ᑭᓱᒥᒃ',\n",
              " 'ᐹᔅᑕᓐᒧᑦ',\n",
              " 'ᐊᖓᔪᖅᑳᒃᑲ',\n",
              " 'ᐅᕙᓂ.',\n",
              " 'ᔮᓐ',\n",
              " 'ᐃᓅᔪᓐᓃᓚᐅᖅᑐᖅ',\n",
              " 'ᐱᐅᒋᙱᑕᕋ.',\n",
              " 'ᓱᓕ.',\n",
              " 'ᑕᓚᕕᓴᒃᑯᑦ',\n",
              " 'ᑕᒪᑐᒥᖓ.',\n",
              " 'ᐃᓛᓐᓂᒃᑯᑦ',\n",
              " 'ᐃᓕᓐᓄᑦ.',\n",
              " 'ᖁᕕᐊᑉᐳᖓ',\n",
              " 'ᑕᑯᓚᐅᖅᑕᕋ',\n",
              " 'ᐅᖃᐅᑎᙵ',\n",
              " 'ᖃᓄᐃᑦᓴᖏᑦᑐᖓ',\n",
              " 'ᖃᐅᔨᒪᓚᐅᙱᑦᑐᖅ',\n",
              " 'ᐃᓪᓗ',\n",
              " 'ᐊᑕᐅᓯᕐᒥᒃ',\n",
              " 'ᐅᖃᓕᒫᒐᖅ.',\n",
              " 'ᐅᕙᑦᑎᓐᓂᒃ',\n",
              " 'ᓱᓕ?',\n",
              " 'ᓇᓗᔪᖓ.',\n",
              " 'ᐊᖑᑦ',\n",
              " 'ᖃᖓ',\n",
              " 'ᑕᒫᓂ.',\n",
              " 'ᑕᐃᒪᐃᓕᐅᕆᐊᒃᓴᖅ.',\n",
              " 'ᐊᓯᐊᓂᒃ',\n",
              " 'ᐅᕝᕙ',\n",
              " 'ᐅᕙᑦᑎᓐᓄᑦ',\n",
              " 'ᓄᑲᑉᐱᐊᖅ',\n",
              " 'ᐅᕙᓂ',\n",
              " 'ᖃᐅᔨᒪᕖᑦ',\n",
              " 'ᖃᐅᑕᒫᑦ.',\n",
              " 'ᑖᒻᒥᑦ.',\n",
              " 'ᖁᕕᐊᓇᖅ',\n",
              " 'ᔮᓐᒥᒃ.',\n",
              " 'ᖃᐅᔨᒪᖅᑰᖏᒻᒪᑦ',\n",
              " 'ᓄᓇᓯᐅᑎᒐ',\n",
              " 'ᐳᐃᒍᕐᓂᕋᒪ',\n",
              " 'ᐊᒥᓲᕗᑦ',\n",
              " 'ᔮᒃᓴᓐ',\n",
              " 'ᐊᕐᓇᖅ',\n",
              " 'ᐅᓪᓗᓕᒫᖅ',\n",
              " 'ᐃᓕᓐᓂᒃ',\n",
              " 'ᐃᓅᓯᖅ',\n",
              " 'ᓇᔭᒐ',\n",
              " 'ᓇᓗᓇᙱᑦᑐᖅ',\n",
              " 'ᐱᓇᓱᐊᕈᓯᐅᑉ',\n",
              " 'ᐅᐃᕖᑐᑦ',\n",
              " 'ᐃᓕᖕᓄᑦ',\n",
              " 'ᐃᑉᐸᔅᓴᖅ',\n",
              " 'ᓱᒻᒪᒃᑭᐊᖅ',\n",
              " 'ᒥᐊᓕᒐᐃᑦ',\n",
              " 'ᑕᕐᕆᔭᖅ',\n",
              " 'ᑐᓴᓚᐅᕋᒪ',\n",
              " 'ᐹᔅᑕᓐ',\n",
              " 'ᖃᐅᔨᔪᒪᔪᖓ',\n",
              " 'ᖃᐅᔨᒍᒪᕗᖓᓕ',\n",
              " 'ᒫᓐᓇᐅᔪᖅ.',\n",
              " 'ᒪᕐᕉᒃ',\n",
              " 'ᐊᕐᕌᒍᓄᑦ',\n",
              " 'ᐃᑉᐸᒃᓴᖅ.',\n",
              " 'ᓇᖕᒥᓂᖅ',\n",
              " 'ᑭᓱᓕᒫᓂᒃ',\n",
              " 'ᐱᐅᒋᕕᐅᒃ?',\n",
              " 'ᐃᑉᐸᒃᓴᖅ',\n",
              " 'ᓈᒻᒪᖏᒻᒪᑦ.',\n",
              " 'ᒥᐊᓕᒥᑦ',\n",
              " 'ᓄᓇᕐᔪᐊᖅ',\n",
              " 'ᓄᑖᖅ',\n",
              " 'ᒪᒥᐊᓇᖅ.',\n",
              " 'ᓱᕈᓰᑦ',\n",
              " 'ᓇᓗᓇᓐᖏᑦᑐᖅ',\n",
              " 'ᓄᓕᐊᕋ',\n",
              " 'ᓄᓇᓯᐅᑎᒥᒃ',\n",
              " 'ᑭᓇᒥᑭᐊᖅ',\n",
              " 'ᑕᒪᑐᒪ',\n",
              " 'ᐋᔅᑐᕋᐃᓕᐊᒥ.',\n",
              " 'ᐊᕐᓇᐃᑦ',\n",
              " 'ᐅᖃᓕᒫᒐᕐᒥᒃ',\n",
              " 'ᐅᖃᐅᓯᖅ',\n",
              " 'ᖃᐅᔨᒪᕕᐅᒃ',\n",
              " 'ᑭᓇᑐᐃᓐᓇᕐᒥᑦ',\n",
              " 'ᑕᕆᐅᑉ',\n",
              " 'ᑕᒪᒃᑯᐊ',\n",
              " 'ᐹᔅᑕᓐᒧᑦ.',\n",
              " 'ᐱᐅᒋᔭᒃᑲ.',\n",
              " 'ᓇᒥ',\n",
              " 'ᑲᖐᓱᒃᑲᒪ',\n",
              " 'ᑖᔅᓱᒥᖓ',\n",
              " 'ᐱᙳᐊᕐᓂᖅ',\n",
              " 'ᐅᓐᓄᒃ',\n",
              " 'ᐃᓕᓐᓄᑦ',\n",
              " 'ᐃᑉᐸᔅᓴᖅ.',\n",
              " 'ᓲᕐᓗ',\n",
              " 'ᑮᓇᐅᔭᐃᑦ',\n",
              " 'ᑕᒪᑐᒧᖓ.',\n",
              " 'ᑐᑭᖏᓐᓄᑦ',\n",
              " 'ᐊᓈᓇᒪ',\n",
              " 'ᑕᕝᕙᓂ.',\n",
              " 'ᐱᓇᓱᐊᕈᓯᐅᓚᐅᖅᑐᒥ.',\n",
              " 'ᑕᐃᑲᓂ.',\n",
              " 'ᐳᐃᒍᖅᑕᐃᓕᒋᑦ',\n",
              " 'ᖃᐅᔨᒪᔪᖅ',\n",
              " 'ᖁᕕᐊᓇᖅᑐᖅ.',\n",
              " 'ᓇᓂ',\n",
              " 'ᒪᓐᓃᑦ',\n",
              " 'ᑲᑉᐱᐊᓱᒃᑲᒪ',\n",
              " 'ᑕᐃᑲᓂ',\n",
              " 'ᐊᕐᕌᒍᐃᑦ',\n",
              " 'ᐊᑕᐅᓯᖅ',\n",
              " 'ᐅᓪᓛᒃᑯᑦ',\n",
              " 'ᐃᖅᑲᓇᐃᔮᕋ',\n",
              " 'ᐃᓕᓐᓂᐊᖅᑏᑦ',\n",
              " 'ᖃᐅᔨᒪᓪᓚᑦᑖᙱᓚᖓ',\n",
              " 'ᓄᓇᓯᐅᑎ',\n",
              " 'ᓄᑕᕋᓛᖅ',\n",
              " 'ᒫᓐᓇᕈᓗᒃ.',\n",
              " 'ᒫᓐᓇ?',\n",
              " 'ᑕᒪᑐᒥᖓ',\n",
              " 'ᑐᖁᓚᐅᖅᑐᖅ',\n",
              " 'ᐅᖃᐅᑎᓚᐅᖅᐱᐅᒃ',\n",
              " 'ᐅᕙᖓ.',\n",
              " 'ᐃᒐᓛᖅ',\n",
              " 'ᓯᓚᒥ',\n",
              " 'ᓇᒡᒐᔾᔭᐅᒥ.',\n",
              " 'ᓄᓇᓯᐅᑎᒥᒃ.',\n",
              " 'ᒪᒪᖅᑐᖅ.',\n",
              " 'ᑖᒻᒧᑦ?',\n",
              " 'ᑖᒻᑎᑐᑦ.',\n",
              " 'ᐱᔪᒪᔪᖓ.',\n",
              " 'ᐅᖃᖅᑐᓂ',\n",
              " 'ᐅᓪᓗᖅ',\n",
              " 'ᐅᓗᕆᐊᓱᒃᑲᒪ',\n",
              " 'ᐃᒪᖅ',\n",
              " 'ᖃᖓᑕᓲᖅ',\n",
              " 'ᓱᓕᔪᖅ.',\n",
              " 'ᒥᔅᓵᓄᑦ.',\n",
              " 'ᑮᓇᐅᔭᓂᒃ.',\n",
              " 'ᑕᓚᕖᓴᒃᑯᑦ',\n",
              " 'ᐋᐳᐃᑦ',\n",
              " 'ᐊᑯᓂᐊᓗᒃ',\n",
              " 'ᐊᐱᕆᖅᑲᐅᒐᒃᑯ',\n",
              " 'ᐅᖃᓕᒫᒐᕐᒥᒃ.',\n",
              " 'ᐅᐊᑦᑎᐊᕈ',\n",
              " 'ᐃᓕᖕᓄᑦ.',\n",
              " 'ᖃᐅᔨᒪᕚ',\n",
              " 'ᕿᒻᒥᓂᒃ',\n",
              " 'ᓱᓕᕚ?',\n",
              " 'ᓈᓕᖅᑐᑦ.',\n",
              " 'ᓄᓇᓯᐅᑦ',\n",
              " 'ᒎᓇ',\n",
              " 'ᑭᓇᒧᒃᑭᐊᖅ',\n",
              " 'ᑕᐃᒪᐃᓚᐅᖅᑐᖅ.',\n",
              " 'ᐱᖓᓱᓄᑦ.',\n",
              " 'ᐱᐅᔪᐊᓘᒻᒪᑦ.',\n",
              " 'ᐱᐅᒋᙱᑕᕋ',\n",
              " 'ᐱᐅᒋᙱᑕᒃᑲ.',\n",
              " 'ᐊᔪᕐᓇᕐᒪᑦ',\n",
              " 'ᐊᓕᐊᓇᐃᒋᑦᑎᐊᖅᑕᕋ.',\n",
              " 'ᐊᑏᑦ',\n",
              " 'ᐊᑏ.',\n",
              " 'ᐅᕙᑦᑎᓐᓄᑦ.',\n",
              " 'ᕿᑐᕐᖓᒃᑲ',\n",
              " 'ᓄᑖᓂᒃ',\n",
              " 'ᓂᖀᑦ.1',\n",
              " 'ᒪᕐᕉᖕᓂᒃ',\n",
              " 'ᐱᔾᔪᑎᒋᓪᓗᒍ',\n",
              " 'ᐱᐅᔪᒻᒪᕆᐅᕗᖅ.',\n",
              " 'ᐱᐅᒋᕕᐅᒃ',\n",
              " 'ᐊᖏᕐᕋᓐᓂ',\n",
              " 'ᐊᖏᕐᕋᒧᑦ',\n",
              " 'ᐊᓯᖏᓐᓂᒃ',\n",
              " 'ᐊᑭᖓ',\n",
              " 'ᐅᖃᖅᖢᓂ',\n",
              " 'ᐅᖃᓕᒫᒐᐃᑦ',\n",
              " 'ᐃᕐᓂᕋ',\n",
              " 'ᖃᓄᐃᓕᐅᕆᐊᖃᕐᒪᖔᕐᒪ.',\n",
              " 'ᕿᒻᒥᒥᒃ',\n",
              " 'ᓱᓕᓪᓗᖓ',\n",
              " 'ᑳᐱ',\n",
              " 'ᑕᒫᓂ?',\n",
              " 'ᐱᓇᓱᐊᕈᓯᕐᒥ.',\n",
              " 'ᐊᕐᕌᓂ.',\n",
              " 'ᐊᓪᓛᑦ',\n",
              " 'ᐊᑯᓚᐃᑎᒋᔪᒥᒃ',\n",
              " 'ᐅᕙᓂ?',\n",
              " 'ᐅᓪᓗᓄᑦ',\n",
              " 'ᐃᖅᑲᐅᒪᙱᑦᑐᖓ',\n",
              " 'ᐃᓚᒃᑲ',\n",
              " 'ᖃᐅᔨᒪᖏᑦᑐᖅ',\n",
              " 'ᖁᕕᐊᓱᒃᐳᖓ',\n",
              " 'ᕿᒻᒥᕋ',\n",
              " 'ᓇᓗᔪᖓ',\n",
              " 'ᒥᐊᓕᒥᑦ.',\n",
              " 'ᒥᐊᓕᑎᑐᑦ.',\n",
              " 'ᑭᓇᑭᐊᖅ',\n",
              " 'ᑕᒪᐅᖓ',\n",
              " 'ᑎᑎᖅᑲᖅ',\n",
              " 'ᐱᐅᒃᓴᙱᑦᑐᖓ.',\n",
              " 'ᐋᐳᓂᒃ',\n",
              " 'ᐊᖑᑏᑦ',\n",
              " 'ᐊᔪᕐᓇᖅᑐᖅ.',\n",
              " 'ᐊᐱᕆᖅᑲᐅᒻᒫᖓ',\n",
              " 'ᐅᖃᐅᑎᓚᐅᖅᐹᖓ',\n",
              " 'ᐃᓪᓗᕈᓯᖅ',\n",
              " 'ᐃᓕᖕᓂᒃ.',\n",
              " 'ᖃᐅᔨᒪᕗᑦ',\n",
              " 'ᓱᓕᕚ',\n",
              " 'ᓱᒃᑲᐃᑦᑐᒥᒃ',\n",
              " 'ᓂᑲᒍᓱᒃᑲᒪ.',\n",
              " 'ᒥᒃᓵᓄᑦ?',\n",
              " 'ᑭᓱᑭᐊᖅ',\n",
              " 'ᑖᒻ,',\n",
              " 'ᑕᐃᒪᐃᓚᐅᖅᑐᖅ',\n",
              " 'ᐋᐳ',\n",
              " 'ᐊᖅᓴᖅ',\n",
              " 'ᐊᔪᕐᓇᕐᒪᑦ.',\n",
              " 'ᐊᒃᑲᒐ',\n",
              " 'ᐊᑏ',\n",
              " 'ᐅᖃᐅᑎᓚᐅᖅᐹᑎᑦ',\n",
              " 'ᐃᕝᕕᑦ',\n",
              " 'ᐃᓕᓐᓂᐊᕐᕕᒃ',\n",
              " 'ᖃᐅᔨᒪᔭᕋ',\n",
              " 'ᓯᓚ',\n",
              " 'ᓄᔭᒃᑲ',\n",
              " 'ᓄᓇᓯᐅᑎᖓ',\n",
              " 'ᓂᐅᕕᓚᐅᖅᑐᖓ',\n",
              " 'ᑭᓱ',\n",
              " 'ᑖᒻᒥᑦ?',\n",
              " 'ᐊᐱᕆᓗᒍ',\n",
              " 'ᐅᖃᓕᒫᒐᕐᓂᑦ.',\n",
              " 'ᐃᖃᓗᐃᑦ',\n",
              " 'ᖁᕕᐊᒋᔭᕋ',\n",
              " 'ᓯᕿᓐᖑᔭᖅ',\n",
              " 'ᓄᔭᖏᑦ',\n",
              " 'ᓄᓇᓯᐅᑎᒃᑯᑦ',\n",
              " 'ᓂᕿᒥᒃ.',\n",
              " 'ᓂᐅᕕᓚᐅᖅᑐᖅ.',\n",
              " 'ᒥᐊᓕ?',\n",
              " 'ᑭᓱᓂᒃ',\n",
              " 'ᑭᓇᑐᐃᓐᓇᕐᒥᒃ',\n",
              " 'ᑭᓇᐅᒻᒪᖔᖅ',\n",
              " 'ᑖᒥᐅᑉ',\n",
              " 'ᐊᑎᖓ.',\n",
              " 'ᐊᑎᕋ',\n",
              " 'ᐅᖃᓕᒫᒐᕐᒥᑦ.',\n",
              " 'ᐅᖃᐅᓯᕐᓂᒃ',\n",
              " 'ᐅᓐᓄᒃ?',\n",
              " 'ᐅᑐᐱᕆ',\n",
              " 'ᐃᓅᓯᕋ',\n",
              " '2:30-ᒥ.',\n",
              " 'ᖃᑦᑎᓂᒃ',\n",
              " 'ᕙᓯ',\n",
              " 'ᓈᓚᐅᑎᒃᑯᑦ',\n",
              " 'ᓇᒦᒻᒪᖔᖅ.',\n",
              " 'ᑭᓱᑐᐃᓐᓇᒥᒃ',\n",
              " 'ᑭᓇᑐᐃᓐᓇᕐᒧᑦ',\n",
              " 'ᑭᒃᑯᓕᒫᓄᑦ',\n",
              " 'ᑖᒻᒥᒃ?',\n",
              " 'ᑕᑯᓚᐅᖅᑐᖓ',\n",
              " 'ᑕᐃᔅᓱᒪᓂ.',\n",
              " 'ᑕᐃᒪᐃᓚᐅᕐᒪᖔᖅ.',\n",
              " 'ᑕᐃᒪᐃᓐᖏᒻᒧᓪᓕ?',\n",
              " 'ᑐᑭᓯᒋᐊᕐᕕᒃ',\n",
              " 'ᐸᓖᓯᒃᑯᓐᓄᑦ',\n",
              " 'ᐋᐳᒥᒃ',\n",
              " 'ᐊᖓᔪᖅᑳᒥᓂᒃ',\n",
              " 'ᐊᖏᕐᕋᒥᓂᒃ',\n",
              " 'ᐊᑭᖏᑦ',\n",
              " 'ᐅᖃᖅᑲᐅᔪᖓ',\n",
              " 'ᐅᖃᖃᑦᑕᕐᒪᑕ',\n",
              " 'ᐅᓐᓄᐊᓕᒫᖅ',\n",
              " 'ᐅᑉᐱᕈᓱᙱᓐᓇᒪ',\n",
              " 'ᐅᐃᕕᑎᑐᑦ',\n",
              " 'ᐃᕐᓂᖓ',\n",
              " 'ᐃᓄᑑᓪᓗᓂ',\n",
              " '30-ᓂᒃ',\n",
              " '3',\n",
              " 'ᖃᐅᔨᒪᙱᒻᒪᑦ',\n",
              " 'ᖁᕕᐊᒋᑦᑎᐊᖅᑕᕋ.',\n",
              " 'ᕿᑐᑦᑐᒐᐅᔭᖅ',\n",
              " 'ᕙᐃᓂᒥᒃ',\n",
              " 'ᓱᕈᓯᐅᑎᓪᓗᖓ.',\n",
              " 'ᓯᕗᓪᓕᖅᐹᒥ',\n",
              " 'ᓂᐅᕕᓚᐅᖅᑐᖓ.',\n",
              " 'ᓂᐅ',\n",
              " 'ᑭᖑᓪᓕᖅᐹᒥ',\n",
              " 'ᑭᓇᑐᐃᓐᓇᕐᒥᒃ.',\n",
              " 'ᑭᒃᑯᑦ',\n",
              " 'ᑖᒃᓯᒥᒃ',\n",
              " 'ᑕᐃᒪᐃᒻᒪᑦ',\n",
              " 'ᑕᐃᒪᐃᑦᑐᒥᒃ',\n",
              " 'ᑐᓴᕋᒪ',\n",
              " 'ᑐᓴᕈᒥᓇᖅᑐᖅ.',\n",
              " 'ᑐᑭᖃᕐᒪᖔᖅ.',\n",
              " 'ᐱᓇᓱᐊᕈᓯᐅᓛᖅᑐᒥ.',\n",
              " 'ᐊᖅᑯᑎᒃᑯᑦ.',\n",
              " 'ᐊᑖᑕᖓ',\n",
              " 'ᐊᑖᑕᐃᑦ',\n",
              " 'ᐊᑕᐅᓯᐊᖅᑐᖓ',\n",
              " 'ᐊᐱᕆᓚᐅᕐᒪᖓ',\n",
              " 'ᐊᐅᐸᖅᑐᒥᒃ',\n",
              " 'ᐅᕙᓐᓄᑦ?',\n",
              " 'ᐅᓪᓛᒃᑯᑦ.',\n",
              " 'ᐅᓪᓗᒥ?',\n",
              " 'ᖃᓄᓕᒫᕋᓱᓐᓂᐊᖅᐳᖓ',\n",
              " 'ᖃᓄᐃᑦᑐᖃᕐᓂᕐᒪᖔᖅ.',\n",
              " 'ᖃᐅᔨᒪᔪᖃᓐᖏᒻᒪᑦ',\n",
              " 'ᓱᕋᓚᐅᕐᒪᑦ.',\n",
              " 'ᓈᑦᑎᐅᖑᔭᒥ.',\n",
              " 'ᓇᐹᖅᑐᐃᑦ',\n",
              " 'ᓄᓇᓯᐅᑎᒥᓂᒃ',\n",
              " 'ᓄᑲᕋ',\n",
              " 'ᑲᓇᑕᒥ.',\n",
              " 'ᑭᐳᒥ.',\n",
              " 'ᑕᕆᐅᖅ',\n",
              " 'ᑕᑯᓚᐅᕋᒃᑯ',\n",
              " 'ᐹ',\n",
              " 'ᐱᐊᓇᒥᒃ',\n",
              " 'ᐱᐅᓗᐊᙱᒻᒪᑦ.',\n",
              " 'ᐊᖅᓴᕐᒥᒃ',\n",
              " 'ᐊᓕᐊᓇᐃᒋᑦᑎᐊᖅᑕᕋ',\n",
              " 'ᐊᑭᓖᓚᐅᖅᑐᖓ',\n",
              " 'ᐅᖃᖅᑐᒋᕋᑖᕋᒃᑭᑦ',\n",
              " 'ᐅᖃᓕᒫᒐᕐᓂᑦ',\n",
              " 'ᐅᑭᐅᓕᒃ',\n",
              " 'ᐅᑐᐱᕆᒥ.',\n",
              " 'ᐅᐊᑦᑎᐊᕈᐊᐃ.',\n",
              " 'ᐃᓱᒪᔪᖓ',\n",
              " 'ᐃᓕᓴᐃᔨ',\n",
              " 'ᐃᓕᓐᓂᐊᕐᕕᖕᒧᑦ',\n",
              " 'ᐃᒡᓗᖓ',\n",
              " 'ᖃᐅᔨᔪᒪᕖᑦ',\n",
              " 'ᖁᕕᐊᓇᖅᑐᖅ',\n",
              " 'ᕿᓂᕋᒪ',\n",
              " 'ᓱᓕᕗᖅ.',\n",
              " 'ᓱᓕᔪᒥᑦ.',\n",
              " 'ᓄᑕᕋᖅ',\n",
              " 'ᑲᑎᒪᓂᖅ',\n",
              " 'ᑭᖑᓪᓕᕐᒥ',\n",
              " 'ᑕᓚᕖᓴᒃᑯᑦ.',\n",
              " 'ᑕᒻᒪᕋᑖᕋᒪ.',\n",
              " 'ᑕᒪᓐᓇ.',\n",
              " 'ᐱᖃᓐᓇᕆᔭᒃᑲ',\n",
              " 'ᐊᕐᕌᒍᒥ.',\n",
              " 'ᐊᓂᒐ',\n",
              " 'ᐊᑐᕈᓐᓇᖅᐸᕋ?',\n",
              " 'ᐆᑮ?',\n",
              " 'ᐅᖃᖅᐲᑦ',\n",
              " 'ᐅᖃᐅᔾᔨᓚᐅᖅᑐᖅ',\n",
              " 'ᐅᓐᓄᒃᑯᑦ.',\n",
              " 'ᐅᑕᖅᑭᔪᖓ',\n",
              " 'ᐅᐃᕖᑎᑐᑦ?',\n",
              " 'ᐃᓱᒫᓗᙱᓪᓗᑎᑦ.',\n",
              " 'ᐃᓕᓐᓂᐊᕐᕕᖕᒥ',\n",
              " 'ᐃᑲᕐᕋᓄᑦ',\n",
              " 'ᐃᑲᔪᓚᐅᖅᑕᕋ',\n",
              " 'ᖃᖓᑐᐃᓐᓇᖅ.',\n",
              " 'ᖃᓄᓕᒫᑦᓯᐊᖅ',\n",
              " 'ᖃᐅᔨᒪᓐᖏᑦᑎᐊᕋᒪ',\n",
              " 'ᕿᒻᒦᑦ',\n",
              " 'ᕿᑐᕐᖓᒥᓂᒃ',\n",
              " 'ᓂᕿᒥᒃ',\n",
              " 'ᒪᓕᒐᕐᒥᒃ',\n",
              " 'ᒥᐊᓕᒥᑦ?',\n",
              " 'ᑐᒃᑲᕆᐊᓕᒐ',\n",
              " 'ᑎᖕᒥᐊᑦ',\n",
              " 'ᐲᕐᓗᒍ.',\n",
              " 'ᐱᖓᓱᓄᑦ',\n",
              " 'ᐱᔭᕆᐊᑭᑦᑐᖅ.',\n",
              " 'ᐱᐅᒋᓐᖏᑕᕋ.',\n",
              " 'ᐊᕐᕌᒍ.',\n",
              " 'ᐊᕐᓇᒥᒃ',\n",
              " 'ᐊᓯᖏᑦ',\n",
              " 'ᐊᑖᑕᑦᓯᐊᕋ',\n",
              " 'ᐊᑕᐅᑦᑎᒃᑯᑦ.',\n",
              " 'ᐅᖃᖅᐳᖓ',\n",
              " 'ᐅᕙᖓᑎᑐᑦ.',\n",
              " 'ᐅᓐᓄᓴ.',\n",
              " 'ᐅᓂᒃᑳᖅ',\n",
              " 'ᐅᐱᒋᕙᕋ',\n",
              " 'ᐃᓚᖓᑦ',\n",
              " 'ᐃᒻᒧᒃ',\n",
              " 'ᐃᑲᕐᕋᒥᒃ',\n",
              " '2013-ᒥ.',\n",
              " 'ᖃᔪᖅ',\n",
              " 'ᖃᓄᕐᓕᑭᐊᖅ',\n",
              " 'ᖃᐅᔨᒪᕕᐅᒃ?',\n",
              " 'ᓵᒥ.',\n",
              " 'ᓇᓗᓕᕋᒪ.',\n",
              " 'ᓇᒧᑦ',\n",
              " 'ᓇᑭᑦ',\n",
              " 'ᓄᙳᐊᓂ.',\n",
              " 'ᓄᑲᑉᐱᐊᑦ',\n",
              " 'ᑲᓇᑕᒥ',\n",
              " 'ᑰᒃ',\n",
              " 'ᑭᓯᐊᓂ.',\n",
              " 'ᑖᒻᒥᑦ',\n",
              " 'ᑕᕐᕆᔭᖅ.',\n",
              " 'ᑕᑯᒋᑦ,',\n",
              " 'ᑕᐃᒪᐃᒍᓐᓇᖅᑐᖅ.',\n",
              " 'ᐳᐃᒍᕐᓂᕐᒪᑦ',\n",
              " 'ᐱᕈᖅᑐᓂᒃ',\n",
              " 'ᐱᐊᓇ',\n",
              " 'ᐱᐅᔪᐊᓘᕗᖅ.',\n",
              " 'ᐊᖏᓚᐅᖅᑐᖅ',\n",
              " 'ᐊᖅᑯᑎᒃᑯᑦ',\n",
              " 'ᐊᕐᓇᖅ.',\n",
              " 'ᐊᐱᕆᓚᐅᕋᒃᑯ',\n",
              " 'ᐊᐅᐸᖅᑐᖅ',\n",
              " 'ᐆᑮ,',\n",
              " 'ᖃᓂᒋᔮᓂ.',\n",
              " 'ᖃᐅᔨᒪᒻᒪᖔᖅ',\n",
              " 'ᖃᐅᒃᐸᑦ',\n",
              " 'ᖁᕕᐊᓱᕝᕕᒻᒥ',\n",
              " 'ᓲᖃᐃᒻᒪ',\n",
              " 'ᓘᑦᑖᖅ',\n",
              " 'ᓈᓴᐅᓯᕆᓂᕐᒥᒃ',\n",
              " 'ᓇᓂᓯᓚᐅᖅᑐᖅ',\n",
              " 'ᒪᒥᐊᒃᑲᓗᐊᖅᑐᖓ',\n",
              " 'ᒥᐊᓕᒧᑦ?',\n",
              " 'ᑭᓱᑐᐃᓐᓇᐃᑦ',\n",
              " 'ᑭᓇᒧᑦ',\n",
              " 'ᑭᓇᒥᑭᐊᖅ.',\n",
              " 'ᑖᒻᐅᑉ.',\n",
              " 'ᑕᖅᑭᐅᓛᖅᑐᒥ.',\n",
              " 'ᑕᖅᑭᐅᓚᐅᖅᑐᒥ.',\n",
              " 'ᑕᒪᑐᒪᓂ',\n",
              " 'ᑕᑯᓚᐅᕋᒃᑯ.',\n",
              " 'ᑕᐃᒪᐃᒋᐊᖓ.',\n",
              " 'ᑎᑎᕋᐅᑎᒥᒃ',\n",
              " 'ᐹᔅᑕᓐᒥ?',\n",
              " 'ᐹᔅᑕᓐᒥ',\n",
              " 'ᐸᓂᒐ',\n",
              " 'ᐱᖃᓐᓇᕆᔭᕋ',\n",
              " 'ᐱᓕᕆᓚᐅᖅᑐᖅ.',\n",
              " 'ᐱᐅᑦᓴᖏᑦᑐᖓ.',\n",
              " 'ᐋᔅᑐᕋᐃᓕᐊᒥᑦ.',\n",
              " 'ᐊᖏᕐᕋᓐᓂ.',\n",
              " 'ᐊᖏᔪᒥᒃ',\n",
              " 'ᐊᖏᔪᐊᓗᒻᒥᒃ',\n",
              " 'ᐊᖅᑯᑎ',\n",
              " 'ᐊᑏ,',\n",
              " 'ᐆᓇᖅᑐᒥᒃ',\n",
              " 'ᐅᖃᐅᑎᓚᐅᖅᐹ',\n",
              " 'ᐅᕕᓂᕈᕋ',\n",
              " 'ᐅᓪᓛᑕᒫᑦ',\n",
              " 'ᐅᓂᒃᑳᖅᑐᐊᖅ',\n",
              " 'ᐅᑎᓚᐅᖅᑐᖅ',\n",
              " 'ᐅᐃᒐ',\n",
              " 'ᐃᕝᕕᓪᓗ',\n",
              " 'ᐃᔩᒃᑭᒃ',\n",
              " 'ᐃᓱᒪᒥᓂᒃ',\n",
              " 'ᐃᓱᒪᒋᔭᒃᑯᑦ.',\n",
              " 'ᐃᒐᓛᑦ',\n",
              " 'ᐃᑳᕐᕕᒃ',\n",
              " 'ᐃᑉᐸᒃᓴᖅ?',\n",
              " 'ᖃᔅᓯᓄᑦ',\n",
              " 'ᖃᓄᐃᖏᑦᑐᖅ.',\n",
              " 'ᖃᐅᔨᒪᔭᒃᑯᓪᓕ,',\n",
              " 'ᖃᐅᒃᐸᑦ.',\n",
              " 'ᖃᐃᒋᑦ,',\n",
              " 'ᖁᕕᐊᓱᒡᕕᖕᒥ',\n",
              " 'ᓰᕐᓇᖅᑐᓂᒃ.',\n",
              " 'ᓄᓇᓕᐸᐅᔭᖅ',\n",
              " 'ᓂᔾᔭᐅᓯᔭᕐᓂᖅ',\n",
              " 'ᓂᐊᖂᔭᕐᒥᒃ',\n",
              " 'ᒪᖁᖓ',\n",
              " 'ᒪᓕᒐᖅ',\n",
              " 'ᑭᓲᒻᒪᖔᖅ.',\n",
              " 'ᑕᒪᓐᓄᒃ',\n",
              " 'ᑕᐸᐃᖅᑐᖓ',\n",
              " 'ᑕᐃᒪᐃᓕᐅᕐᓂᖅ',\n",
              " 'ᑐᓴᕈᒥᓇᖅᑐᒻᒪᕆᐅᕗᖅ.',\n",
              " 'ᑐᓂᓚᐅᖅᐹᖓ',\n",
              " 'ᑐᑭᓯᕙᕋ',\n",
              " 'ᐳᐃᔾᔪᕋᕐᓂᖅ',\n",
              " 'ᐱᔭᕆᐊᑭᑦᑐᑯᓘᖏᒻᒪᑦ.',\n",
              " 'ᐱᔭᒃᓴᓕᒻᒪᕆᐊᓘᔪᖓ.',\n",
              " 'ᐱᐅᕗᖅ.',\n",
              " 'ᐊᖏᔪᐊᓘᒻᒪᑦ.',\n",
              " 'ᐊᕐᓇᐅᑉ',\n",
              " 'ᐊᔾᔨᒌᓂᒃ',\n",
              " 'ᐊᓈᓇᖓ',\n",
              " 'ᐊᓂᓪᓗᓂ.',\n",
              " 'ᐊᒡᒐᑎᑦ',\n",
              " 'ᐊᑭᑐᓗᐊᕐᒪᑦ.',\n",
              " 'ᐊᐅᐸᖅᑐᖅ.',\n",
              " 'ᐅᖃᖅᑕᐃᓕᒋᑦ.',\n",
              " 'ᐅᖃᓕᒫᒐᕐᒥᑦ',\n",
              " 'ᐅᖃᐅᔾᔨᓯᒪᒻᒪᖔᖅ',\n",
              " 'ᐅᕝᕙᐅᓇ',\n",
              " 'ᐅᓪᓛᖅ.',\n",
              " 'ᐅᒃᐱᕈᓱᒃᐲᑦ',\n",
              " 'ᐅᑕᖅᑭᓂᐊᖅᐳᖓ',\n",
              " 'ᐅᑉᐱᕈᓱᑦᑐᖅ',\n",
              " 'ᐅᐃᕕᑎᑐᑦ.',\n",
              " 'ᐃᙱᐅᓯᖅ',\n",
              " 'ᐃᓕᓐᓂᐊᕐᓂᖅ',\n",
              " 'ᐃᓅᓚᐅᖅᓯᒪᔪᖅ',\n",
              " 'ᐃᒡᓗᒐ',\n",
              " 'ᐃᒃᓯᕙᐅᑕᖅ',\n",
              " 'ᐃᑲᕐᕋᐅᑉ',\n",
              " 'ᖃᓪᓗᓈᑎᑐᑦ.',\n",
              " 'ᖃᐅᔨᒪᔪᖃᖅᐹ',\n",
              " 'ᖃᐅᔨᒪᓚᐅᖅᑐᖅ',\n",
              " 'ᖃᐅᓪᓗᖅᑐᖅ.',\n",
              " 'ᖃᐃᓛᖅᐳᓯ',\n",
              " 'ᖁᖓᓯᕈᖅ',\n",
              " 'ᖁᕕᐊᑦᑐᒻᒪᕆᐅᕗᖓ',\n",
              " 'ᓇᒻᒥᓂᖅ.',\n",
              " 'ᓄᓕᐊᕋ.',\n",
              " 'ᓄᓇᓯᐅᑎᓄᑦ',\n",
              " 'ᓂᕐᕆᓯᓂᒃ',\n",
              " 'ᓂᐅᕕᕐᕕᒃ',\n",
              " 'ᓂᐅᕕᓚᐅᖅᑕᕋ.',\n",
              " 'ᒥᒃᓵᓄᑦ',\n",
              " 'ᑮᓇᐅᔭᑦ',\n",
              " 'ᑕᓂᔅ',\n",
              " 'ᑕᒪᕐᒥᑲᓴᑦᑎᐊᖅ',\n",
              " 'ᑕᑯᖅᑲᐅᕕᐅᒃ',\n",
              " 'ᑕᑯᑎᓐᓂᐊᖅᐸᒋᑦ',\n",
              " 'ᑕᐃᒫᑦᓴᐃᓐᓇᖅ',\n",
              " 'ᑕᐃᒪᓕ',\n",
              " 'ᑕᐃᒪᐃᓕᐅᕆᐊᖓ.',\n",
              " 'ᑕᐃᒪᐃᓐᓂᕐᒪᖔᖅ.',\n",
              " 'ᑕᐃᑯᖓ',\n",
              " 'ᑐᖑᔪᕈᔪᒃᑐᒥᒃ',\n",
              " 'ᑐᓴᕐᓈᕐᓂᖅ',\n",
              " 'ᑐᓄᐊᓂ',\n",
              " 'ᑎᑎᕋᖅᓯᒪᔪᑦ',\n",
              " 'ᐴᖅ',\n",
              " 'ᐱᙳᐊᕐᓂᖅ.',\n",
              " 'ᐱᖃᑎᒋᓪᓗᒍ.',\n",
              " 'ᐱᕙᓪᓕᐊᔪᓂ.',\n",
              " 'ᐱᔭᕆᐊᖃᖅᑐᖓ.',\n",
              " 'ᐱᔪᒪᕖᑦ?',\n",
              " 'ᐱᓚᐅᖅᑐᖅ.',\n",
              " 'ᐱᑕᖃᖏᑦᑐᖅ',\n",
              " 'ᐱᐊᒥᒃ',\n",
              " 'ᐱᐅᔪᐊᓘᕗᑦ.',\n",
              " 'ᐋᔅᑐᕋᐃᓕᐊᒥ',\n",
              " 'ᐊᖓᔪᖅᑳᖏᒃ',\n",
              " 'ᐊᖓᔪᖅᑳᑎᑦ',\n",
              " 'ᐊᖏᖃᑎᒋᕙᕋ',\n",
              " 'ᐊᕐᕌᒍᑦ',\n",
              " 'ᐊᕐᓇᐅᔪᖅ.',\n",
              " 'ᐊᔪᕐᒪᑦ.',\n",
              " 'ᐊᑕᐅᓯᒃᑲᓐᓂᕐᒥᒃ',\n",
              " 'ᐅᖃᖅᑲᐅᕙ',\n",
              " 'ᐅᖃᖃᑎᒋᓚᐅᖅᑕᕋ',\n",
              " 'ᐅᖃᐅᓯᕐᒥᒃ.',\n",
              " 'ᐅᖃᐅᑎᖅᑲᐅᕕᐅᒃ',\n",
              " 'ᐅᓪᓛᖅ',\n",
              " 'ᐅᓐᓄᐊᒃᑯᑦ',\n",
              " 'ᐅᓇᑕᕐᓂᖅ',\n",
              " 'ᐅᐊᑦᑎᐊᕈ.',\n",
              " 'ᐃᖅᑲᓇᐃᔮᒃᓴᒥᒃ',\n",
              " 'ᐃᖅᑲᐅᒪᔭᕋ',\n",
              " 'ᐃᔩᒃᑲ',\n",
              " 'ᐃᓱᒪᒐ',\n",
              " 'ᐃᓘᓐᓇᑕ',\n",
              " 'ᐃᓗᐊᓂ.',\n",
              " 'ᐃᓄᐃᑦ.',\n",
              " 'ᐃᒡᓗ',\n",
              " '5',\n",
              " '30',\n",
              " 'ᖃᓄᐃᔾᔮᖏᑦᑐᑦ.',\n",
              " 'ᖃᓄᐃᓕᐅᕐᒪᖔᖅ.',\n",
              " 'ᖃᑦᑎᑦ',\n",
              " 'ᖃᐅᔨᒪᙱᑕᕋ',\n",
              " 'ᖃᐅᔨᒪᔭᒃᑲ',\n",
              " 'ᖃᐅᔨᒪᓚᐅᙱᓚᑏᑦ',\n",
              " 'ᖁᕕᐊᓇᓚᐅᖅᑐᖅ.',\n",
              " 'ᖁᕕᐊᒋᔭᖃᖅᑐᖅ',\n",
              " 'ᖀᒥᒍᓱᒃᑐᖅ.',\n",
              " 'ᕿᕐᓂᖅᑕᒥᒃ',\n",
              " 'ᕼᐄ,',\n",
              " 'ᔮᐸᓃᓯ',\n",
              " 'ᓴᕕᒃ',\n",
              " 'ᓱᓕᖅᑰᕋᕕᑦ.',\n",
              " 'ᓰᓯ',\n",
              " 'ᓇᐹᖅᑐᖅ',\n",
              " 'ᓄᓇ',\n",
              " 'ᓂᕐᔪᑎᑦ',\n",
              " 'ᓂᕆᖃᑦᑕᖅᑐᖅ',\n",
              " 'ᒪᑐᓗᒍ',\n",
              " 'ᑲᑎᑎᑕᐅᓚᐅᖅᑐᖅ',\n",
              " 'ᑮᓇᐅᔭᒃᑲ',\n",
              " 'ᑭᓱᒥᑭᐊᖅ?',\n",
              " 'ᑭᓱᑐᐃᓐᓇᖅ',\n",
              " 'ᑭᓇᒥᒃ',\n",
              " 'ᑭᓇᐅᒻᒪᖔᖅ.',\n",
              " 'ᑭᒃᑯᓕᒫᓄᑦ.',\n",
              " 'ᑭᒃᑯᑐᐃᓐᓇᑦᑎᐊᑦ',\n",
              " 'ᑕᒻᒪᕐᒪᑦ.',\n",
              " 'ᑕᑯᓗᒍ',\n",
              " 'ᑕᐃᒪᓕ,',\n",
              " 'ᑕᐃᒪᐃᖁᓇᙱᒃᑲᓗᐊᖅᐳᖅ.',\n",
              " 'ᑕᐃᒪᐃᔾᔮᖅᑰᖏᑦᑐᖅ.',\n",
              " 'ᑕᐃᒪᐃᓚᐅᖅᑐᖓ.',\n",
              " 'ᑕᐃᒪ',\n",
              " 'ᑐᓴᖅᑲᐅᕖᑦ',\n",
              " 'ᑐᒃᑲᕆᐊᓕᒃᑯᑦ',\n",
              " 'ᑐᑭᖏᓐᓂᑦ',\n",
              " 'ᑏ',\n",
              " 'ᑎᖕᒥᐊᖅ',\n",
              " 'ᑎᑭᒻᒪᑦ.',\n",
              " 'ᐹ.',\n",
              " 'ᐲᑦᓴ',\n",
              " 'ᐱᕈᖅᓴᓚᐅᖅᑐᖅ',\n",
              " 'ᐱᔭᕇᖅᑐᖅ.',\n",
              " 'ᐱᓇᓱᐊᕈᓯᖅ',\n",
              " 'ᐱᑕᖃᕈᓐᓃᕐᒪᑦ.',\n",
              " 'ᐊᖅᓴᒥᒃ',\n",
              " 'ᐊᕐᕌᒍᓂᒃ',\n",
              " 'ᐊᔾᔨᖑᐊᖅ',\n",
              " 'ᐊᔪᖅᑐᖅ.',\n",
              " 'ᐊᔪᕐᓇᖅᑐᖅ',\n",
              " 'ᐊᓕᐊᓇᐃᒋᑦᑎᐊᖅᑕᖓ.',\n",
              " 'ᐊᒃᓱᕈᖅᖢᖓ',\n",
              " 'ᐊᑭᖃᖅᐸ?',\n",
              " 'ᐊᑖᓂ.',\n",
              " 'ᐊᐅᔭᖅ',\n",
              " 'ᐅᖃᖅᑕᖓᓂᒃ.',\n",
              " 'ᐅᖃᖅᐹ',\n",
              " 'ᐅᖃᖃᑎᒋᔪᒪᔭᕋ',\n",
              " 'ᐅᖃᕐᓗᖓ,',\n",
              " 'ᐅᖃᓕᒫᕐᓗᒍ',\n",
              " 'ᐅᖃᐅᔾᔨᓚᐅᙱᑦᑐᖅ',\n",
              " 'ᐅᕙᓐᓂ',\n",
              " 'ᐅᕙᑦᑎᓐᓄᑦ?',\n",
              " 'ᐅᓐᓄᒍᒻᒥᑕᕐᓇᖅ',\n",
              " 'ᐃᓱᒪᖃᑦᑕᕐᒪᑕ',\n",
              " 'ᐃᓯᒐᐅᔭᒃᑲ',\n",
              " 'ᐃᓄᖕᓂᒃ',\n",
              " 'ᐃᒥᐅᑎᒥᒃ',\n",
              " 'ᐃᒡᓗᕈᓯᕋ',\n",
              " 'ᐃᑲᔪᖅᑕᐅᔪᒪᓪᓗᓂ.',\n",
              " '20-ᒥ.',\n",
              " '2',\n",
              " 'ᖃᓄᐃᙱᑦᑐᑦ.',\n",
              " 'ᖃᓄᐃᑦᓴᖏᑦᑐᖓ.',\n",
              " 'ᖃᒥᓪᓗᒍ',\n",
              " 'ᖃᐅᔨᓚᐅᖅᑐᖓ',\n",
              " 'ᖃᐅᔨᒪᔪᖅ.',\n",
              " 'ᖃᐅᔨᒪᓚᐅᖅᑐᑦ',\n",
              " 'ᖃᐅᑕᒫᑦ?',\n",
              " 'ᖁᕕᐊᓱᒡᕕᒃ',\n",
              " 'ᖁᐱᕐᕈᐃᑦ',\n",
              " 'ᔮᓐᒧᑦ.',\n",
              " 'ᔮᓐ.',\n",
              " 'ᔮᒃᓴᓐ.',\n",
              " 'ᓴᓂᐊᓂ.',\n",
              " 'ᓲᖃᐃᒻᒪ,',\n",
              " 'ᓱᕈᓰᑦ.',\n",
              " 'ᓱᓕᒻᒪᖔᖅ.',\n",
              " 'ᓱᓕᒋᐊᖓ.',\n",
              " 'ᓯᕗᓪᓕᕐᒥ.',\n",
              " 'ᓈᓴᐅᑎᖓᓂᒃ.',\n",
              " 'ᓇᓪᓕᒋᕙᒋᑦ.',\n",
              " 'ᓇᒦᒻᒪᖔᖅ',\n",
              " 'ᓇᒡᒐᔾᔭᐅᖑᓛᖅᑐᒥ.',\n",
              " 'ᓇᒃᑲᔾᔭᒥ',\n",
              " 'ᓄᓇᓯᐅᑎᖃᖅᑐᖓ.',\n",
              " 'ᓄᑖᖑᒻᒪᑦ.',\n",
              " 'ᓂᖏᐅᕋ',\n",
              " 'ᓂᑲᒍᓱᒃᑐᖅ.',\n",
              " 'ᓂᐅᕕᓚᐅᖅᑕᕋ',\n",
              " 'ᒫᓐᓇᐅᔪᖅ',\n",
              " 'ᒎᓗ',\n",
              " 'ᒎᑎᐅᑉ',\n",
              " 'ᑮᖏᑦ',\n",
              " 'ᑮᒃ',\n",
              " 'ᑭᓱᓕᒫᓂᒃ.',\n",
              " 'ᑭᓱᒥᑭᐊᖅ',\n",
              " 'ᑭᓇᑐᐃᓐᓇᕐᒥᑦ.',\n",
              " 'ᑭᐅᔾᔪᑎᒐ',\n",
              " 'ᑖᒃᑯᓂᖓ',\n",
              " 'ᑕᓕᕋ',\n",
              " 'ᑕᒻᒪᕋᕕᑦ.',\n",
              " 'ᑕᑯᓚᐅᖅᑕᕋ.',\n",
              " 'ᑕᑯᓚᐅᕋᒪ',\n",
              " 'ᑕᑯᒐᒪ',\n",
              " 'ᑕᐃᒪᐃᒍᓐᓇᕐᒪᖔᕐᒪ.',\n",
              " 'ᑕᐃᒪᐃᒋᐊᖃᕐᓂᕋᖅᑐᓂ.',\n",
              " 'ᑐᓴᕋᑖᕋᒪ',\n",
              " 'ᑐᓂᓯᓚᐅᖅᑐᖅ.',\n",
              " 'ᑐᒃᓯᐊᕐᕕᒃ',\n",
              " 'ᐸᑦᑕᐃᑦᑐᐃᑦ',\n",
              " 'ᐱᖃᓐᓈᕋ',\n",
              " 'ᐱᖃᓐᓇᕆᔭᒥᓂᒃ',\n",
              " 'ᐱᕈᖅᓯᐊᑦ',\n",
              " 'ᐱᔭᕆᐊᑐᔪᕈᓘᒻᒪᑦ.',\n",
              " 'ᐱᓕᕆᐊᖅ',\n",
              " 'ᐱᒡᒐᓇᖅᑐᒻᒪᕆᐅᓚᐅᖅᐳᖅ.',\n",
              " 'ᐱᒋᔭᐅᔪᖅ.',\n",
              " 'ᐱᐅᒋᙱᒻᒪᒍ.',\n",
              " 'ᐱᐅᒋᔭᒃᑲ',\n",
              " 'ᐱᐅᒃᓴᙱᑦᑐᖅ.',\n",
              " 'ᐱᐅᑦᓴᖅᑐᖅ.',\n",
              " 'ᐋᔅᑐᕋᐃᓕᐊᒧᑦ.',\n",
              " 'ᐋᔅᑐᕇᓕᐊᒧᑦ',\n",
              " 'ᐋᓐᓂᖅᑐᖅ.',\n",
              " 'ᐋᓐᓂᐊᕐᓂᖅ',\n",
              " 'ᐊᖓᔪᒐ',\n",
              " 'ᐊᖑᑎᑐᖃᖅ',\n",
              " 'ᐊᖏᕐᕋᓚᐅᖅᑐᖅ',\n",
              " 'ᐊᔪᕐᓇᖏᑦᑐᖅ.',\n",
              " 'ᐊᓂᒍᓕᖅᑐᑦ.',\n",
              " 'ᐊᒥᓲᓂᖏᑦ',\n",
              " 'ᐊᒡᒐᓂ',\n",
              " 'ᐊᑲᐅᙱᓕᐅᕈᑎᖃᕋᒪ.',\n",
              " 'ᐊᑲᐅᙱᓕᐅᕈᑎᐅᔪᖅ',\n",
              " 'ᐊᑯᓂᐊᓗᒃ.',\n",
              " 'ᐊᑖᑕᒥᓂᒃ',\n",
              " 'ᐊᑕᐅᓯᑐᐃᓐᓇᕐᒥᑦ',\n",
              " 'ᐊᑐᓂ',\n",
              " 'ᐊᐅᔭᒃᑯᑦ',\n",
              " 'ᐅᖃᖅᑕᖓ',\n",
              " 'ᐅᖃᕐᒪᖔᖅᐱᑦ.',\n",
              " 'ᐅᖃᐅᓯᕋ',\n",
              " 'ᐅᖃᐅᓯᕆᓚᐅᕐᓚᕗᑦ',\n",
              " 'ᐅᕙᓃᒃᑲᕕᑦ.',\n",
              " 'ᐅᕕᓂᕈᖅ',\n",
              " 'ᐅᑭᐅᖃᖅᑐᖓ.',\n",
              " 'ᐅᑭᐅᖃᓕᖅᑐᖅ.',\n",
              " 'ᐅᑎᕐᓂᐊᖅᐳᖓ',\n",
              " 'ᐅᐃᕖᑐᑦ.',\n",
              " 'ᐅᐃᕖᑎᑑᖅᑐᓂᒃ',\n",
              " 'ᐃᖅᑲᓇᐃᔮᒥᒃ.',\n",
              " 'ᐃᓪᓗᒐ',\n",
              " 'ᐃᓕᖕᓄᑦ?',\n",
              " 'ᐃᓕᓐᓂᐊᖅᑎᐅᔪᖅ.',\n",
              " 'ᐃᓕᓐᓂᐊᕐᕕᖕᒧᑦ.',\n",
              " 'ᐃᓄᑑᓗᖓ',\n",
              " 'ᐃᒻᒧᖕᒥᒃ',\n",
              " 'ᐃᒥᖅᑐᖅ',\n",
              " 'ᐃᒡᒑᒃᑲ',\n",
              " 'ᐃᒡᒑᒃ',\n",
              " '6:30-ᒥ.',\n",
              " 'ᖃᖓᑐᐃᓐᓇᖅ',\n",
              " 'ᖃᕆᑕᐅᔭᖅ',\n",
              " 'ᖃᓄᐃᙱᓚᖅ',\n",
              " 'ᖃᓄᐃᙱᑦᑐᖅ.',\n",
              " 'ᖃᓄᐃᓕᐅᕐᒪᖔᑕ.',\n",
              " 'ᖃᓂᒋᔮᓂ',\n",
              " 'ᖃᐅᔨᓚᐅᖅᑐᖅ',\n",
              " 'ᖃᐅᔨᒪᔭᕋ.',\n",
              " 'ᖃᐅᔨᒪᔪᖃᖏᑦᑐᖅ',\n",
              " 'ᖃᐅᔨᒪᔪᖃᓚᐅᖏᑦᑐᖅ',\n",
              " 'ᖃᐅᓪᓗᖅᑐᖅ',\n",
              " 'ᖃᐅᑕᒫᑲᓴᑦᑎᐊᖅ.',\n",
              " 'ᖁᕕᐊᓱᕝᕕᒻᒧᑦ.',\n",
              " 'ᖁᕕᐊᓱᒃᑐᖅ.',\n",
              " 'ᖁᕕᐊᓇᖅ.',\n",
              " 'ᖁᕕᐊᒋᓚᐅᖅᑕᕋ',\n",
              " 'ᕙᓯᒥᒃ',\n",
              " 'ᔮᓐᒥᑦ.',\n",
              " 'ᓵᓐᑕ',\n",
              " 'ᓵᒥ',\n",
              " 'ᓴᓇᓯᒪᔪᖅ',\n",
              " 'ᓴᒡᓗᔪᖅ.',\n",
              " 'ᓱᒻᒪᑦ.',\n",
              " 'ᓯᓚᕐᔪᐊᕐᒥ.',\n",
              " 'ᓯᓂᒃᑐᖅ.',\n",
              " 'ᓇᓴᐃᑦ',\n",
              " 'ᓇᒥᑭᐊᖅ.',\n",
              " 'ᓇᐹᖅᑐᒥᑦ.',\n",
              " 'ᓄᖅᑲᖅᑎᓪᓗᒍ.',\n",
              " 'ᓄᖅᑲᓚᐅᖅᑐᖅ.',\n",
              " 'ᓄᓇᕐᔪᐊᕐᒥ',\n",
              " 'ᓄᓇᓯᐅᑎᒧᑦ.',\n",
              " 'ᓄᓇᓯᐅᑎᐅᑉ',\n",
              " 'ᓄᓇᓕᐸᐅᔭᒥ.',\n",
              " 'ᓂᖀᑦ?',\n",
              " 'ᓂᕆᕙᙱᑦᑐᖅ',\n",
              " 'ᓂᕆᔪᖓ.',\n",
              " 'ᓂᑲᒍᓱᙱᑦᑐᖓ.',\n",
              " 'ᓂᐱᖓ',\n",
              " 'ᓂᐊᖂᔭᖅ',\n",
              " 'ᓂᐅᕕᕆᐊᒃᓴᖅ',\n",
              " 'ᒪᖁᓚᐅᖅᑐᖅ.',\n",
              " 'ᒪᕐᕈᐊᖅᑎᖅᑐᓂ',\n",
              " 'ᒪᓕᒐᕐᓂᒃ.',\n",
              " 'ᒪᒥᐊᒃᑲᓗᐊᖅᐳᖓ',\n",
              " 'ᒥᕐᖑᐃᖅᓯᕐᕕᖕᒥ.',\n",
              " 'ᒥᑭᑦᑐᒥᒃ',\n",
              " 'ᒍᕇᑕᓐᒥ.',\n",
              " 'ᑲᒻᐸᓂᐅᔪᖅ',\n",
              " 'ᑲᑉᐱᐊᓱᙱᑦᑐᖓ.',\n",
              " 'ᑮᓇᐅᔭᒃᑯᕕᒻᒥ.',\n",
              " 'ᑮᓇᐅᔭᒃᑯᕕᒐ',\n",
              " 'ᑭᓱᑐᐃᓐᓇᕐᒥᑦ.',\n",
              " 'ᑖᔅᓱᒧᖓ',\n",
              " 'ᑖᒻᓗ.',\n",
              " 'ᑕᕝᕗᖓ',\n",
              " 'ᑕᒪᒃᑯᓂᖓ',\n",
              " 'ᑕᑯᕕᐅᒃ?',\n",
              " 'ᑕᑯᕕᐅᒃ',\n",
              " 'ᑕᑯᓚᐅᕐᓯᒪᙱᑦᑐᖓ',\n",
              " 'ᑕᐃᒪᐃᓕᐅᕆᐊᒃᓴᖅ?',\n",
              " 'ᑕᐃᒪᐃᒍᓐᓇᖅᑐᖓ.',\n",
              " 'ᑐᓴᕈᒥᓇᖅᑐᓂᒃ',\n",
              " 'ᑐᒃᑲᕆᐊᓕᒃ',\n",
              " 'ᑎᓴᒪᓂᒃ',\n",
              " 'ᑎᑎᖅᑲᒥᒃ.',\n",
              " 'ᐹᖕ',\n",
              " 'ᐹᔅᑕᓐᒧᑦ?',\n",
              " 'ᐳᐃᔾᔪᕋᕆᐊᒃᓴᖅ.',\n",
              " 'ᐱᖓᓱᐊᖅᑎᖅᑐᖓ',\n",
              " 'ᐱᖃᑎᒋᓂᐊᖅᐸᒋᑦ.',\n",
              " 'ᐱᔭᕆᐊᑭᑦᑐᑯᓘᖏᒻᒪᑦ',\n",
              " 'ᐱᔪᒪᔭᕐᓂᒃ',\n",
              " 'ᐱᔪᒪᔭᒥᓂᒃ.',\n",
              " 'ᐱᓯᒪᕕᑦ?',\n",
              " 'ᐱᓕᕆᓗᑎᑦ.',\n",
              " 'ᐱᒡᒐᓇᖅᑐᒻᒪᕆᐅᕗᖅ.',\n",
              " 'ᐱᐅᕗᖅ',\n",
              " 'ᐱᐅᒋᙱᑕᒃᑲ',\n",
              " 'ᐋᓪᓚᐅᒻᒪᑦ.',\n",
              " 'ᐊᖑᑎᐅᑉ',\n",
              " 'ᐊᕐᕌᒍᒥ',\n",
              " 'ᐊᕐᕌᒍ',\n",
              " 'ᐊᕐᓇᐅᔪᖅ',\n",
              " 'ᐊᔾᔨᙳᐊᖅ',\n",
              " 'ᐊᔾᔨᓕᐅᕈᑦ',\n",
              " 'ᐊᓕᒍᖅ',\n",
              " 'ᐊᓐᓄᕌᓂᒃ',\n",
              " 'ᐊᓐᓄᕌᒃᑲ',\n",
              " 'ᐊᓈᓇᐃᑦ',\n",
              " 'ᐊᒡᒐᒥᓂᒃ',\n",
              " 'ᐊᒡᒐᒃᑲ',\n",
              " 'ᐊᑭᐊᓂ.',\n",
              " 'ᐊᑖᑕᒪ',\n",
              " 'ᐊᑕᐅᓯᖅ.',\n",
              " 'ᐊᑕᐅᑦᑎᒃᑯᑦ',\n",
              " 'ᐊᑑᑎᖃᑦᑎᐊᖅᑐᖅ.',\n",
              " 'ᐊᐅᐸᔪᒃᑐᒥᑦ',\n",
              " 'ᐆᒪᔪᐃᑦ',\n",
              " 'ᐅᖓᑖᓂ',\n",
              " 'ᐅᖄᓚᐅᒻᒥᑦ',\n",
              " 'ᐅᖄᓚᐅᑎᒃᑯᑦ.',\n",
              " 'ᐅᖃᖃᑎᒋᓚᐅᖅᐱᐅᒃ',\n",
              " 'ᐅᖃᓕᒫᒐᐃᑦ.',\n",
              " 'ᐅᖃᐅᔾᔨᓚᐅᖅᐸ',\n",
              " 'ᐅᖃᐅᓯᖅ.',\n",
              " 'ᐅᖃᐅᓯᒃᓴᖃᙱᑦᑐᖓ.',\n",
              " 'ᐅᕙᓐᓄᓪᓕ',\n",
              " 'ᐅᕙᓃᑦᑐᓕᒫᑦ',\n",
              " 'ᐅᓪᓗᓕᒫᖅ.',\n",
              " 'ᐅᓪᓗᐃᑦ',\n",
              " 'ᐅᓐᓄᓴᒃᑯᑦ.',\n",
              " 'ᐅᑭᐅᖃᖅᐱᑦ',\n",
              " 'ᐅᑭᐅᒃᑯᑦ.',\n",
              " 'ᐃᓱᒪᔪᖓᓕ',\n",
              " 'ᐃᓱᒪᐃᑦ',\n",
              " 'ᐃᓚᑎᑦ',\n",
              " 'ᐃᓗᐊᓂ',\n",
              " 'ᐃᓕᑦᓯᑎᑐᑦ.',\n",
              " 'ᐃᓐᖏᐅᓯᖅ',\n",
              " 'ᐃᓅᓕᓴᐅᑎ',\n",
              " 'ᐃᑲᕐᕋᐃᑦ',\n",
              " 'ᐃᑲᔪᕆᐊᒃᓴᖅ',\n",
              " '12-ᓂᒃ',\n",
              " 'ᖃᖓᑭᐊᖅ.',\n",
              " 'ᖃᖓᑕᓲᒥᒃ',\n",
              " 'ᖃᓄᐃᑦᓴᖏᓚᑏᑦ',\n",
              " 'ᖃᐅᔨᔪᓐᓇᖏᑦᑐᖓ',\n",
              " 'ᖃᐅᔨᒪᕙᒌᖅᑐᖅ',\n",
              " 'ᖃᐅᔨᒪᔭᐅᑦᑎᐊᖅᑐᖅ.',\n",
              " 'ᖃᐅᔨᒪᔪᑦ',\n",
              " 'ᖃᐅᔨᒪᓚᐅᙱᒻᒪᑦ',\n",
              " 'ᖃᐅᔨᒪᓐᖏᓚᖓᓕ',\n",
              " 'ᖃᐅᔨᒪᑦᑎᐊᖅᑐᖓ',\n",
              " 'ᖃᐃᔾᔮᖅᑰᖏᒻᒪᑦ.',\n",
              " ...]"
            ]
          },
          "execution_count": 90,
          "metadata": {},
          "output_type": "execute_result"
        }
      ],
      "source": [
        "target_text_processor.get_vocabulary()"
      ]
    },
    {
      "cell_type": "code",
      "execution_count": 93,
      "metadata": {
        "colab": {
          "base_uri": "https://localhost:8080/"
        },
        "id": "R2rqJejbD7aY",
        "outputId": "acc6aca4-8d4d-48fd-8e2c-1e18dcc1cf55"
      },
      "outputs": [
        {
          "data": {
            "text/plain": [
              "<tf.RaggedTensor [[2, 5, 69, 10, 87, 67, 18, 74, 4, 3], [2, 51, 33, 55, 18, 10, 874, 4, 3],\n",
              " [2, 165, 143, 1163, 4, 3]]>"
            ]
          },
          "execution_count": 93,
          "metadata": {},
          "output_type": "execute_result"
        }
      ],
      "source": [
        "example_tokens = context_text_processor(example_context_strings)\n",
        "example_tokens[:3, :]"
      ]
    },
    {
      "cell_type": "code",
      "execution_count": 94,
      "metadata": {
        "colab": {
          "base_uri": "https://localhost:8080/",
          "height": 35
        },
        "id": "rf6MpH6lEBzQ",
        "outputId": "e8f9a079-b9fd-4ed5-ae27-6b87d333ed59"
      },
      "outputs": [
        {
          "data": {
            "text/plain": [
              "'[START] i had a good time in boston . [END]'"
            ]
          },
          "execution_count": 94,
          "metadata": {},
          "output_type": "execute_result"
        }
      ],
      "source": [
        "context_vocab = np.array(context_text_processor.get_vocabulary())\n",
        "tokens = context_vocab[example_tokens[0].numpy()]\n",
        "' '.join(tokens)"
      ]
    },
    {
      "cell_type": "markdown",
      "metadata": {
        "id": "i0sPhHHME0vw"
      },
      "source": [
        "The returned token IDs are zero-padded. This can easily be turned into a mask:"
      ]
    },
    {
      "cell_type": "markdown",
      "metadata": {
        "id": "sDxxuZzPFE4p"
      },
      "source": [
        "The `process_text` function below converts the `Datasets` of strings, into  0-padded tensors of token IDs. It also converts from a `(context, target)` pair to an `((context, target_in), target_out)` pair for training with `keras.Model.fit`. Keras expects `(inputs, labels)` pairs, the inputs are the `(context, target_in)` and the labels are `target_out`. The difference between `target_in` and `target_out` is that they are shifted by one step relative to eachother, so that at each location the label is the next token."
      ]
    },
    {
      "cell_type": "code",
      "execution_count": 95,
      "metadata": {
        "id": "iCBmllZGFGTj"
      },
      "outputs": [],
      "source": [
        "def process_text(context, target):\n",
        "  context = context_text_processor(context).to_tensor()\n",
        "  target = target_text_processor(target)\n",
        "  targ_in = target[:,:-1].to_tensor()\n",
        "  targ_out = target[:,1:].to_tensor()\n",
        "  return (context, targ_in), targ_out\n",
        "\n",
        "\n",
        "train_ds = train_raw.map(process_text, tf.data.AUTOTUNE)\n",
        "val_ds = val_raw.map(process_text, tf.data.AUTOTUNE)"
      ]
    },
    {
      "cell_type": "markdown",
      "metadata": {
        "id": "GFilqBpmFLJU"
      },
      "source": [
        "Here is the first sequence of each, from the first batch:"
      ]
    },
    {
      "cell_type": "code",
      "execution_count": 96,
      "metadata": {
        "colab": {
          "base_uri": "https://localhost:8080/"
        },
        "id": "aBti1yffEHHJ",
        "outputId": "5ef3f2c7-76d9-4bd3-8917-77368fca9f54"
      },
      "outputs": [
        {
          "name": "stdout",
          "output_type": "stream",
          "text": [
            "[   2   64  316 1257    4    3    0    0    0    0]\n",
            "\n",
            "[3 2 6 2 1 0 0 0 0 0]\n",
            "[2 6 2 1 4 0 0 0 0 0]\n"
          ]
        }
      ],
      "source": [
        "for (ex_context_tok, ex_tar_in), ex_tar_out in train_ds.take(1):\n",
        "  print(ex_context_tok[0, :10].numpy()) \n",
        "  print()\n",
        "  print(ex_tar_in[0, :10].numpy()) \n",
        "  print(ex_tar_out[0, :10].numpy()) "
      ]
    },
    {
      "cell_type": "markdown",
      "metadata": {
        "id": "8mHTfyJKFqBZ"
      },
      "source": [
        "\n",
        "\n",
        "---\n",
        "\n",
        "\n",
        "\n",
        "---\n",
        "\n"
      ]
    },
    {
      "cell_type": "markdown",
      "metadata": {
        "id": "fPN-4tH0FkNu"
      },
      "source": [
        "## The encoder/decoder\n",
        "\n",
        "The following diagrams shows an overview of the model. In both the encoder is on the left, the decoder is on the right. At each time-step the decoder's output is combined with the encoder's output, to predict the next word. \n",
        "\n",
        "The original [left] contains a few extra connections that are intentionally omitted from this tutorial's model [right], as they are generally unnecessary, and difficult to implement. Those missing connections are:\n",
        "\n",
        "1. Feeding the state from the encoder's RNN to the decoder's RNN\n",
        "2. Feeding the attention output back to the RNN's input.\n",
        "\n"
      ]
    },
    {
      "cell_type": "markdown",
      "metadata": {
        "id": "k5QUdD7LFir6"
      },
      "source": [
        "\n",
        "\n",
        "\n",
        "---\n",
        "\n",
        "\n",
        "\n",
        "---\n",
        "\n",
        "\n",
        "---\n",
        "\n"
      ]
    },
    {
      "cell_type": "code",
      "execution_count": 97,
      "metadata": {
        "id": "L0h4w2paFrOu"
      },
      "outputs": [],
      "source": [
        "#Defining Constants\n",
        "\n",
        "UNITS = 256"
      ]
    },
    {
      "cell_type": "markdown",
      "metadata": {
        "id": "Y6gpOjzPF0mb"
      },
      "source": [
        "### The encoder\n",
        "\n",
        "The goal of the encoder is to process the context sequence into a sequence of vectors that are useful for the decoder as it attempts to predict the next output for each timestep. Since the context sequence is constant, there is no restriction on how information can flow in the encoder, so use a bidirectional-RNN to do the processing:\n",
        "\n",
        "The encoder:\n",
        "\n",
        "1. Takes a list of token IDs (from `context_text_processor`).\n",
        "3. Looks up an embedding vector for each token (Using a `layers.Embedding`).\n",
        "4. Processes the embeddings into a new sequence (Using a bidirectional `layers.GRU`).\n",
        "5. Returns the processed sequence. This will be passed to the attention head."
      ]
    },
    {
      "cell_type": "code",
      "execution_count": 98,
      "metadata": {
        "id": "PBA_UtpcFupi"
      },
      "outputs": [],
      "source": [
        "class Encoder(tf.keras.layers.Layer):\n",
        "  def __init__(self, text_processor, units):\n",
        "    super(Encoder, self).__init__()\n",
        "    self.text_processor = text_processor\n",
        "    self.vocab_size = text_processor.vocabulary_size()\n",
        "    self.units = units\n",
        "    \n",
        "    # The embedding layer converts tokens to vectors\n",
        "    self.embedding = tf.keras.layers.Embedding(self.vocab_size, units,\n",
        "                                               mask_zero=True)\n",
        "\n",
        "    # The RNN layer processes those vectors sequentially.\n",
        "    self.rnn = tf.keras.layers.Bidirectional(\n",
        "        merge_mode='sum',\n",
        "        layer=tf.keras.layers.GRU(units,\n",
        "                            # Return the sequence and state\n",
        "                            return_sequences=True,\n",
        "                            recurrent_initializer='glorot_uniform'))\n",
        "\n",
        "  def call(self, x):\n",
        "    shape_checker = ShapeChecker()\n",
        "    shape_checker(x, 'batch s')\n",
        "\n",
        "    # 2. The embedding layer looks up the embedding vector for each token.\n",
        "    x = self.embedding(x)\n",
        "    shape_checker(x, 'batch s units')\n",
        "\n",
        "    # 3. The GRU processes the sequence of embeddings.\n",
        "    x = self.rnn(x)\n",
        "    shape_checker(x, 'batch s units')\n",
        "\n",
        "    # 4. Returns the new sequence of embeddings.\n",
        "    return x\n",
        "\n",
        "  def convert_input(self, texts):\n",
        "    texts = tf.convert_to_tensor(texts)\n",
        "    if len(texts.shape) == 0:\n",
        "      texts = tf.convert_to_tensor(texts)[tf.newaxis]\n",
        "    context = self.text_processor(texts).to_tensor()\n",
        "    context = self(context)\n",
        "    return context"
      ]
    },
    {
      "cell_type": "code",
      "execution_count": 99,
      "metadata": {
        "colab": {
          "base_uri": "https://localhost:8080/"
        },
        "id": "OvsKNemfF9Jb",
        "outputId": "d30dc715-f701-4c05-e2e8-dd23ca882865"
      },
      "outputs": [
        {
          "name": "stdout",
          "output_type": "stream",
          "text": [
            "Context tokens, shape (batch, s): (20, 12)\n",
            "Encoder output, shape (batch, s, units): (20, 12, 256)\n"
          ]
        }
      ],
      "source": [
        "# Encode the input sequence.\n",
        "encoder = Encoder(context_text_processor, UNITS)\n",
        "ex_context = encoder(ex_context_tok)\n",
        "\n",
        "print(f'Context tokens, shape (batch, s): {ex_context_tok.shape}')\n",
        "print(f'Encoder output, shape (batch, s, units): {ex_context.shape}')"
      ]
    },
    {
      "cell_type": "markdown",
      "metadata": {
        "id": "gOsBVMALGOZ1"
      },
      "source": [
        "### The attention layer\n",
        "\n",
        "The attention layer lets the decoder access the information extracted by the encoder. It computes a vector from the entire context sequence, and adds that to the decoder's output. \n",
        "\n",
        "The simplest way you could calculate a single vector from the entire sequence would be to take the average across the sequence (`layers.GlobalAveragePooling1D`). An attention layer is similar, but calculates a **weighted** average across the context sequence. Where the weights are calculated from the combination of context and \"query\" vectors."
      ]
    },
    {
      "cell_type": "code",
      "execution_count": 100,
      "metadata": {
        "id": "P7Kl3nkYGKZk"
      },
      "outputs": [],
      "source": [
        "class CrossAttention(tf.keras.layers.Layer):\n",
        "  def __init__(self, units, **kwargs):\n",
        "    super().__init__()\n",
        "    self.mha = tf.keras.layers.MultiHeadAttention(key_dim=units, num_heads=1, **kwargs)\n",
        "    self.layernorm = tf.keras.layers.LayerNormalization()\n",
        "    self.add = tf.keras.layers.Add()\n",
        "\n",
        "  def call(self, x, context):\n",
        "    shape_checker = ShapeChecker()\n",
        " \n",
        "    shape_checker(x, 'batch t units')\n",
        "    shape_checker(context, 'batch s units')\n",
        "\n",
        "    attn_output, attn_scores = self.mha(\n",
        "        query=x,\n",
        "        value=context,\n",
        "        return_attention_scores=True)\n",
        "    \n",
        "    shape_checker(x, 'batch t units')\n",
        "    shape_checker(attn_scores, 'batch heads t s')\n",
        "    \n",
        "    # Cache the attention scores for plotting later.\n",
        "    attn_scores = tf.reduce_mean(attn_scores, axis=1)\n",
        "    shape_checker(attn_scores, 'batch t s')\n",
        "    self.last_attention_weights = attn_scores\n",
        "\n",
        "    x = self.add([x, attn_output])\n",
        "    x = self.layernorm(x)\n",
        "\n",
        "    return x"
      ]
    },
    {
      "cell_type": "code",
      "execution_count": 101,
      "metadata": {
        "colab": {
          "base_uri": "https://localhost:8080/"
        },
        "id": "fPU0zA5qGTln",
        "outputId": "5c0acf57-156e-416b-a774-88631c29620f"
      },
      "outputs": [
        {
          "name": "stdout",
          "output_type": "stream",
          "text": [
            "Context sequence, shape (batch, s, units): (20, 12, 256)\n",
            "Target sequence, shape (batch, t, units): (20, 11, 256)\n",
            "Attention result, shape (batch, t, units): (20, 11, 256)\n",
            "Attention weights, shape (batch, t, s):    (20, 11, 12)\n"
          ]
        }
      ],
      "source": [
        "attention_layer = CrossAttention(UNITS)\n",
        "\n",
        "# Attend to the encoded tokens\n",
        "embed = tf.keras.layers.Embedding(target_text_processor.vocabulary_size(),\n",
        "                                  output_dim=UNITS, mask_zero=True)\n",
        "ex_tar_embed = embed(ex_tar_in)\n",
        "\n",
        "result = attention_layer(ex_tar_embed, ex_context)\n",
        "\n",
        "print(f'Context sequence, shape (batch, s, units): {ex_context.shape}')\n",
        "print(f'Target sequence, shape (batch, t, units): {ex_tar_embed.shape}')\n",
        "print(f'Attention result, shape (batch, t, units): {result.shape}')\n",
        "print(f'Attention weights, shape (batch, t, s):    {attention_layer.last_attention_weights.shape}')"
      ]
    },
    {
      "cell_type": "markdown",
      "metadata": {
        "id": "uT5SiiZ4GdLs"
      },
      "source": [
        "The attention weights will sum to `1` over the context sequence, at each location in the target sequence."
      ]
    },
    {
      "cell_type": "code",
      "execution_count": 102,
      "metadata": {
        "colab": {
          "base_uri": "https://localhost:8080/"
        },
        "id": "EMGQmVQyGaiB",
        "outputId": "dec4fc3e-4b59-4aae-9da4-9451a21580bf"
      },
      "outputs": [
        {
          "data": {
            "text/plain": [
              "array([1.        , 1.        , 1.        , 1.        , 1.        ,\n",
              "       0.99999994, 0.99999994, 0.99999994, 0.99999994, 0.99999994,\n",
              "       0.99999994], dtype=float32)"
            ]
          },
          "execution_count": 102,
          "metadata": {},
          "output_type": "execute_result"
        }
      ],
      "source": [
        "attention_layer.last_attention_weights[0].numpy().sum(axis=-1)"
      ]
    },
    {
      "cell_type": "markdown",
      "metadata": {
        "id": "ZkN38MjrG0W_"
      },
      "source": [
        "### The decoder\n",
        "\n",
        "The decoder's job is to generate predictions for the next token at each location in the target sequence.\n",
        "\n",
        "1. It looks up embeddings for each token in the target sequence.\n",
        "2. It uses an RNN to process the target sequence, and keep track of what it has generated so far.\n",
        "3. It uses RNN output as the \"query\" to the attention layer, when attending to the encoder's output.\n",
        "4. At each location in the output it predicts the next token.\n",
        "\n",
        "When training, the model predicts the next word at each location. So it's important that the information only flows in one direction through the model. The decoder uses a unidirectional (not bidirectional) RNN to process the target sequence.\n",
        "\n",
        "When running inference with this model it produces one word at a time, and those are fed back into the model.\n"
      ]
    },
    {
      "cell_type": "code",
      "execution_count": 103,
      "metadata": {
        "id": "m-KJ_K8JGkb7"
      },
      "outputs": [],
      "source": [
        "class Decoder(tf.keras.layers.Layer):\n",
        "  @classmethod\n",
        "  def add_method(cls, fun):\n",
        "    setattr(cls, fun.__name__, fun)\n",
        "    return fun\n",
        "\n",
        "  def __init__(self, text_processor, units):\n",
        "    super(Decoder, self).__init__()\n",
        "    self.text_processor = text_processor\n",
        "    self.vocab_size = text_processor.vocabulary_size()\n",
        "    self.word_to_id = tf.keras.layers.StringLookup(\n",
        "        vocabulary=text_processor.get_vocabulary(),\n",
        "        mask_token='', oov_token='[UNK]')\n",
        "    self.id_to_word = tf.keras.layers.StringLookup(\n",
        "        vocabulary=text_processor.get_vocabulary(),\n",
        "        mask_token='', oov_token='[UNK]',\n",
        "        invert=True)\n",
        "    self.start_token = self.word_to_id('[START]')\n",
        "    self.end_token = self.word_to_id('[END]')\n",
        "\n",
        "    self.units = units\n",
        "\n",
        "\n",
        "    # 1. The embedding layer converts token IDs to vectors\n",
        "    self.embedding = tf.keras.layers.Embedding(self.vocab_size,\n",
        "                                               units, mask_zero=True)\n",
        "\n",
        "    # 2. The RNN keeps track of what's been generated so far.\n",
        "    self.rnn = tf.keras.layers.GRU(units,\n",
        "                                   return_sequences=True,\n",
        "                                   return_state=True,\n",
        "                                   recurrent_initializer='glorot_uniform')\n",
        "\n",
        "    # 3. The RNN output will be the query for the attention layer.\n",
        "    self.attention = CrossAttention(units)\n",
        "\n",
        "    # 4. This fully connected layer produces the logits for each\n",
        "    # output token.\n",
        "    self.output_layer = tf.keras.layers.Dense(self.vocab_size)"
      ]
    },
    {
      "cell_type": "markdown",
      "metadata": {
        "id": "cmI1g0SlG8eW"
      },
      "source": [
        "#### Training"
      ]
    },
    {
      "cell_type": "markdown",
      "metadata": {
        "id": "8ciKBn-kG9HT"
      },
      "source": [
        "Next, the `call` method, takes 3 arguments:\n",
        "\n",
        "* `inputs` -  a `context, x` pair where:\n",
        "  * `context` - is the context from the encoder's output.\n",
        "  * `x` - is the target sequence input.\n",
        "* `state` - Optional, the previous `state` output from the decoder (the internal state of the decoder's RNN). Pass the state from a previous run to continue generating text where you left off.\n",
        "* `return_state` - [Default: False] - Set this to `True` to return the RNN state. "
      ]
    },
    {
      "cell_type": "code",
      "execution_count": 104,
      "metadata": {
        "id": "afv1r9NsG56D"
      },
      "outputs": [],
      "source": [
        "@Decoder.add_method\n",
        "def call(self,\n",
        "         context, x,\n",
        "         state=None,\n",
        "         return_state=False):  \n",
        "  shape_checker = ShapeChecker()\n",
        "  shape_checker(x, 'batch t')\n",
        "  shape_checker(context, 'batch s units')\n",
        "\n",
        "  # 1. Lookup the embeddings\n",
        "  x = self.embedding(x)\n",
        "  shape_checker(x, 'batch t units')\n",
        "\n",
        "  # 2. Process the target sequence.\n",
        "  x, state = self.rnn(x, initial_state=state)\n",
        "  shape_checker(x, 'batch t units')\n",
        "\n",
        "  # 3. Use the RNN output as the query for the attention over the context.\n",
        "  x = self.attention(x, context)\n",
        "  self.last_attention_weights = self.attention.last_attention_weights\n",
        "  shape_checker(x, 'batch t units')\n",
        "  shape_checker(self.last_attention_weights, 'batch t s')\n",
        "\n",
        "  # Step 4. Generate logit predictions for the next token.\n",
        "  logits = self.output_layer(x)\n",
        "  shape_checker(logits, 'batch t target_vocab_size')\n",
        "\n",
        "  if return_state:\n",
        "    return logits, state\n",
        "  else:\n",
        "    return logits"
      ]
    },
    {
      "cell_type": "code",
      "execution_count": 105,
      "metadata": {
        "id": "1K0Cumx4HGIr"
      },
      "outputs": [],
      "source": [
        "##That will be sufficient for training. Create an instance of the decoder to test out\n",
        "\n",
        "decoder = Decoder(target_text_processor, UNITS)"
      ]
    },
    {
      "cell_type": "markdown",
      "metadata": {
        "id": "nihCo-UhHQoa"
      },
      "source": [
        "In training you'll use the decoder like this:\n",
        "\n",
        "Given the context and target tokens, for each target token it predicts the next target token. "
      ]
    },
    {
      "cell_type": "code",
      "execution_count": 106,
      "metadata": {
        "colab": {
          "base_uri": "https://localhost:8080/"
        },
        "id": "nuZApSMZHOqX",
        "outputId": "79dc45f1-6fb0-42bb-a0e9-73388b69e0b0"
      },
      "outputs": [
        {
          "name": "stdout",
          "output_type": "stream",
          "text": [
            "encoder output shape: (batch, s, units) (20, 12, 256)\n",
            "input target tokens shape: (batch, t) (20, 11)\n",
            "logits shape shape: (batch, target_vocabulary_size) (20, 11, 5000)\n"
          ]
        }
      ],
      "source": [
        "logits = decoder(ex_context, ex_tar_in)\n",
        "\n",
        "print(f'encoder output shape: (batch, s, units) {ex_context.shape}')\n",
        "print(f'input target tokens shape: (batch, t) {ex_tar_in.shape}')\n",
        "print(f'logits shape shape: (batch, target_vocabulary_size) {logits.shape}')"
      ]
    },
    {
      "cell_type": "markdown",
      "metadata": {
        "id": "l8q3nWOuHm-c"
      },
      "source": [
        "#### Inference\n",
        "\n",
        "To use it for inference you'll need a couple more methods:"
      ]
    },
    {
      "cell_type": "code",
      "execution_count": 107,
      "metadata": {
        "id": "9L_GjnC0HX7s"
      },
      "outputs": [],
      "source": [
        "@Decoder.add_method\n",
        "def get_initial_state(self, context):\n",
        "  batch_size = tf.shape(context)[0]\n",
        "  start_tokens = tf.fill([batch_size, 1], self.start_token)\n",
        "  done = tf.zeros([batch_size, 1], dtype=tf.bool)\n",
        "  embedded = self.embedding(start_tokens)\n",
        "  return start_tokens, done, self.rnn.get_initial_state(embedded)[0]"
      ]
    },
    {
      "cell_type": "code",
      "execution_count": 108,
      "metadata": {
        "id": "KlhTZcYVHsRA"
      },
      "outputs": [],
      "source": [
        "@Decoder.add_method\n",
        "def tokens_to_text(self, tokens):\n",
        "  words = self.id_to_word(tokens)\n",
        "  result = tf.strings.reduce_join(words, axis=-1, separator=' ')\n",
        "  result = tf.strings.regex_replace(result, '^ *\\[START\\] *', '')\n",
        "  result = tf.strings.regex_replace(result, ' *\\[END\\] *$', '')\n",
        "  return result"
      ]
    },
    {
      "cell_type": "code",
      "execution_count": 109,
      "metadata": {
        "id": "qV0B0LxiHuKY"
      },
      "outputs": [],
      "source": [
        "@Decoder.add_method\n",
        "def get_next_token(self, context, next_token, done, state, temperature = 0.0):\n",
        "  logits, state = self(\n",
        "    context, next_token,\n",
        "    state = state,\n",
        "    return_state=True) \n",
        "  \n",
        "  if temperature == 0.0:\n",
        "    next_token = tf.argmax(logits, axis=-1)\n",
        "  else:\n",
        "    logits = logits[:, -1, :]/temperature\n",
        "    next_token = tf.random.categorical(logits, num_samples=1)\n",
        "\n",
        "  # If a sequence produces an `end_token`, set it `done`\n",
        "  done = done | (next_token == self.end_token)\n",
        "  # Once a sequence is done it only produces 0-padding.\n",
        "  next_token = tf.where(done, tf.constant(0, dtype=tf.int64), next_token)\n",
        "  \n",
        "  return next_token, done, state"
      ]
    },
    {
      "cell_type": "markdown",
      "metadata": {
        "id": "vVZ8IEA8HyYj"
      },
      "source": [
        "With those extra functions, you can write a generation loop:"
      ]
    },
    {
      "cell_type": "code",
      "execution_count": 110,
      "metadata": {
        "colab": {
          "base_uri": "https://localhost:8080/"
        },
        "id": "5DpkrncXHvwt",
        "outputId": "5f416104-c69c-4da7-e71b-232bafae0942"
      },
      "outputs": [
        {
          "data": {
            "text/plain": [
              "array([b'\\xe1\\x91\\x95\\xe1\\x90\\xb8\\xe1\\x90\\x83\\xe1\\x96\\x85\\xe1\\x91\\x90\\xe1\\x96\\x93. \\xe1\\x93\\x82\\xe1\\x96\\x80\\xe1\\x91\\xa6 \\xe1\\x91\\x95\\xe1\\x92\\xbb\\xe1\\x92\\xaa\\xe1\\x93\\x9a\\xe1\\x90\\x85\\xe1\\x96\\x85\\xe1\\x90\\xb3\\xe1\\x96\\x93. \\xe1\\x91\\x95\\xe1\\x90\\x83\\xe1\\x92\\xaa\\xe1\\x90\\x83\\xe1\\x91\\x8e\\xe1\\x99\\xb1\\xe1\\x91\\x95\\xe1\\x96\\x8f\\xe1\\x91\\xa6. \\xe1\\x96\\x83\\xe1\\x90\\x85\\xe1\\x94\\xa8\\xe1\\x92\\xaa\\xe1\\x96\\x8f\\xe1\\x91\\xa6\\xe1\\x91\\x90\\xe1\\x96\\x85 \\xe1\\x90\\x8a\\xe1\\x94\\xbe\\xe1\\x94\\xa8\\xe1\\x96\\x81\\xe1\\x91\\x8e\\xe1\\x92\\xa5\\xe1\\x92\\x83 \\xe1\\x96\\x83\\xe1\\x90\\x85\\xe1\\x94\\xa8\\xe1\\x92\\xaa\\xe1\\x93\\x90\\xe1\\x96\\x8f\\xe1\\x93\\x9a\\xe1\\x96\\x93 \\xe1\\x90\\x8b\\xe1\\x94\\x85\\xe1\\x91\\x90\\xe1\\x95\\x8b\\xe1\\x90\\x83\\xe1\\x93\\x95\\xe1\\x90\\x8a\\xe1\\x92\\xa7\\xe1\\x91\\xa6? \\xe1\\x91\\x95\\xe1\\x91\\xaf\\xe1\\x93\\x9a\\xe1\\x90\\x85\\xe1\\x95\\x8b\\xe1\\x92\\x83\\xe1\\x91\\xaf \\xe1\\x90\\x85\\xe1\\x93\\xaa\\xe1\\x93\\x9b\\xe1\\x96\\x91\\xe1\\x94\\xaa\\xe1\\x96\\x85',\n",
              "       b'\\xe1\\x92\\xa5\\xe1\\x95\\x90\\xe1\\x96\\x91\\xe1\\x90\\x83\\xe1\\x96\\x85\\xe1\\x93\\xaf\\xe1\\x95\\x90\\xe1\\x95\\x95\\xe1\\x96\\x95\\xe1\\x92\\xa5 \\xe1\\x90\\x83\\xe1\\x93\\x95\\xe1\\x96\\x95\\xe1\\x93\\x84\\xe1\\x91\\xa6 \\xe1\\x96\\x81\\xe1\\x94\\xad\\xe1\\x92\\x8b\\xe1\\x94\\xad\\xe1\\x92\\xbb\\xe1\\x92\\xaa\\xe1\\x95\\x86\\xe1\\x92\\x8b\\xe1\\x95\\x99\\xe1\\x92\\x8b\\xe1\\x91\\xa6 \\xe1\\x90\\xb9\\xe1\\x94\\x85\\xe1\\x91\\x95\\xe1\\x93\\x90\\xe1\\x92\\xa5\\xe1\\x90\\x85\\xe1\\x91\\x95\\xe1\\x90\\x85\\xe1\\x94\\xaa\\xe1\\x96\\x93. \\xe1\\x91\\x95\\xe1\\x92\\xaa\\xe1\\x91\\x90\\xe1\\x92\\xa5\\xe1\\x96\\x93? \\xe1\\x90\\xb1\\xe1\\x99\\xb3\\xe1\\x90\\x8a\\xe1\\x95\\x88\\xe1\\x93\\x90\\xe1\\x93\\x87\\xe1\\x96\\x85\\xe1\\x91\\x90\\xe1\\x96\\x85. \\xe1\\x92\\xa5\\xe1\\x96\\x92\\xe1\\x91\\x8e\\xe1\\x92\\xa5\\xe1\\x92\\x83 \\xe1\\x90\\x85\\xe1\\x96\\x83\\xe1\\x93\\x9a\\xe1\\x90\\x85\\xe1\\x96\\x85\\xe1\\x93\\xaf\\xe1\\x92\\xaa\\xe1\\x95\\x97\\xe1\\x96\\x93 \\xe1\\x95\\xbf\\xe1\\x90\\x8a\\xe1\\x93\\x95\\xe1\\x93\\x9a\\xe1\\x90\\x85\\xe1\\x96\\x85\\xe1\\x91\\x90\\xe1\\x96\\x93. \\xe1\\x90\\xb1\\xe1\\x95\\x88\\xe1\\x96\\x85\\xe1\\x91\\x90\\xe1\\x90\\x83\\xe1\\x91\\xa6',\n",
              "       b'\\xe1\\x91\\x95\\xe1\\x90\\x83\\xe1\\x92\\xaa\\xe1\\x93\\x90\\xe1\\x93\\x87 \\xe1\\x93\\xb4\\xe1\\x93\\x82\\xe1\\x90\\x8a\\xe1\\x93\\x82\\xe1\\x91\\xa6. \\xe1\\x96\\x83\\xe1\\x93\\x84\\xe1\\x90\\x83\\xe1\\x96\\x8f\\xe1\\x91\\xa6\\xe1\\x91\\x8e\\xe1\\x90\\x8a\\xe1\\x96\\x85\\xe1\\x91\\x90\\xe1\\x96\\x93. \\xe1\\x93\\xb1\\xe1\\x93\\x95\\xe1\\x93\\x9a\\xe1\\x90\\x85\\xe1\\x96\\x85\\xe1\\x91\\x90\\xe1\\x96\\x85. \\xe1\\x93\\x82\\xe1\\x95\\x90\\xe1\\x94\\xaa\\xe1\\x91\\x8e\\xe1\\x93\\x82\\xe1\\x92\\x83 \\xe1\\x90\\xb1\\xe1\\x96\\x83\\xe1\\x93\\x90\\xe1\\x93\\x87\\xe1\\x95\\x86\\xe1\\x94\\xad\\xe1\\x96\\x8f\\xe1\\x91\\xa6 \\xe1\\x90\\x85\\xe1\\x95\\x95\\xe1\\x93\\x82\\xe1\\x95\\x88\\xe1\\x96\\x85 \\xe1\\x93\\x84\\xe1\\x96\\x85\\xe1\\x91\\xb2\\xe1\\x95\\x86\\xe1\\x91\\xa6 \\xe1\\x90\\x83\\xe1\\x92\\xa5\\xe1\\x92\\x90\\xe1\\x96\\x85 \\xe1\\x91\\xb2\\xe1\\x91\\x89\\xe1\\x90\\xb1\\xe1\\x90\\x8a\\xe1\\x93\\xb1\\xe1\\x99\\xb1\\xe1\\x96\\xa6\\xe1\\x96\\xa2\\xe1\\x93\\x82.'],\n",
              "      dtype=object)"
            ]
          },
          "execution_count": 110,
          "metadata": {},
          "output_type": "execute_result"
        }
      ],
      "source": [
        "# Setup the loop variables.\n",
        "next_token, done, state = decoder.get_initial_state(ex_context)\n",
        "tokens = []\n",
        "\n",
        "for n in range(10):\n",
        "  # Run one step.\n",
        "  next_token, done, state = decoder.get_next_token(\n",
        "      ex_context, next_token, done, state, temperature=1.0)\n",
        "  # Add the token to the output.\n",
        "  tokens.append(next_token)\n",
        "\n",
        "# Stack all the tokens together.\n",
        "tokens = tf.concat(tokens, axis=-1) # (batch, t)\n",
        "\n",
        "# Convert the tokens back to a a string\n",
        "result = decoder.tokens_to_text(tokens)\n",
        "result[:3].numpy()"
      ]
    },
    {
      "cell_type": "markdown",
      "metadata": {
        "id": "Ywc0WqajH9dB"
      },
      "source": [
        "## The model\n",
        "\n",
        "Now that you have all the model components, combine them to build the model for training:"
      ]
    },
    {
      "cell_type": "code",
      "execution_count": 111,
      "metadata": {
        "id": "zDbopX4SH9y5"
      },
      "outputs": [],
      "source": [
        "class Translator(tf.keras.Model):\n",
        "  @classmethod\n",
        "  def add_method(cls, fun):\n",
        "    setattr(cls, fun.__name__, fun)\n",
        "    return fun\n",
        "\n",
        "  def __init__(self, units,\n",
        "               context_text_processor,\n",
        "               target_text_processor):\n",
        "    super().__init__()\n",
        "    # Build the encoder and decoder\n",
        "    encoder = Encoder(context_text_processor, units)\n",
        "    decoder = Decoder(target_text_processor, units)\n",
        "\n",
        "    self.encoder = encoder\n",
        "    self.decoder = decoder\n",
        "\n",
        "  def call(self, inputs):\n",
        "    context, x = inputs\n",
        "    context = self.encoder(context)\n",
        "    logits = self.decoder(context, x)\n",
        "\n",
        "    #TODO(b/250038731): remove this\n",
        "    try:\n",
        "      # Delete the keras mask, so keras doesn't scale the loss+accuracy. \n",
        "      del logits._keras_mask\n",
        "    except AttributeError:\n",
        "      pass\n",
        "\n",
        "    return logits"
      ]
    },
    {
      "cell_type": "markdown",
      "metadata": {
        "id": "wBYS8WWEIWaJ"
      },
      "source": [
        "During training the model will be used like this:"
      ]
    },
    {
      "cell_type": "code",
      "execution_count": 112,
      "metadata": {
        "colab": {
          "base_uri": "https://localhost:8080/"
        },
        "id": "sdZI9403IUEE",
        "outputId": "aa30b3ee-705c-44ab-d72e-49eef7cf4576"
      },
      "outputs": [
        {
          "name": "stdout",
          "output_type": "stream",
          "text": [
            "Context tokens, shape: (batch, s, units) (20, 12)\n",
            "Target tokens, shape: (batch, t) (20, 11)\n",
            "logits, shape: (batch, t, target_vocabulary_size) (20, 11, 5000)\n"
          ]
        }
      ],
      "source": [
        "model = Translator(UNITS, context_text_processor, target_text_processor)\n",
        "\n",
        "logits = model((ex_context_tok, ex_tar_in))\n",
        "\n",
        "print(f'Context tokens, shape: (batch, s, units) {ex_context_tok.shape}')\n",
        "print(f'Target tokens, shape: (batch, t) {ex_tar_in.shape}')\n",
        "print(f'logits, shape: (batch, t, target_vocabulary_size) {logits.shape}')"
      ]
    },
    {
      "cell_type": "markdown",
      "metadata": {
        "id": "cId2mF6ZIkCX"
      },
      "source": [
        "\n",
        "\n",
        "---\n",
        "\n",
        "\n",
        "\n",
        "---\n",
        "### Train\n"
      ]
    },
    {
      "cell_type": "markdown",
      "metadata": {
        "id": "zedCE8CuInoK"
      },
      "source": [
        "For training, you'll want to implement your own masked loss and accuracy functions:"
      ]
    },
    {
      "cell_type": "code",
      "execution_count": 113,
      "metadata": {
        "id": "DpufL4fOIYyA"
      },
      "outputs": [],
      "source": [
        "def masked_loss(y_true, y_pred):\n",
        "    # Calculate the loss for each item in the batch.\n",
        "    loss_fn = tf.keras.losses.SparseCategoricalCrossentropy(\n",
        "        from_logits=True, reduction='none')\n",
        "    loss = loss_fn(y_true, y_pred)\n",
        "\n",
        "    # Mask off the losses on padding.\n",
        "    mask = tf.cast(y_true != 0, loss.dtype)\n",
        "    loss *= mask\n",
        "\n",
        "    # Return the total.\n",
        "    return tf.reduce_sum(loss)/tf.reduce_sum(mask)"
      ]
    },
    {
      "cell_type": "code",
      "execution_count": 114,
      "metadata": {
        "id": "WQt2pBWVIp4_"
      },
      "outputs": [],
      "source": [
        "def masked_acc(y_true, y_pred):\n",
        "    # Calculate the loss for each item in the batch.\n",
        "    y_pred = tf.argmax(y_pred, axis=-1)\n",
        "    y_pred = tf.cast(y_pred, y_true.dtype)\n",
        "    \n",
        "    match = tf.cast(y_true == y_pred, tf.float32)\n",
        "    mask = tf.cast(y_true != 0, tf.float32)\n",
        "    \n",
        "    return tf.reduce_sum(match)/tf.reduce_sum(mask)"
      ]
    },
    {
      "cell_type": "markdown",
      "metadata": {
        "id": "FvdQzYgKIu4V"
      },
      "source": [
        "Configure the model for training:"
      ]
    },
    {
      "cell_type": "code",
      "execution_count": 115,
      "metadata": {
        "id": "AH7nYz6rItFF"
      },
      "outputs": [],
      "source": [
        "model.compile(optimizer='adam',\n",
        "              loss=masked_loss, \n",
        "              metrics=[masked_acc, masked_loss])"
      ]
    },
    {
      "cell_type": "markdown",
      "metadata": {
        "id": "-ydSedj0I3Pa"
      },
      "source": [
        "The model is randomly initialized, and should give roughly uniform output probabilities. So it's easy to predict what the initial values of the metrics should be:"
      ]
    },
    {
      "cell_type": "code",
      "execution_count": 116,
      "metadata": {
        "colab": {
          "base_uri": "https://localhost:8080/"
        },
        "id": "_UWB0CM-Iz3x",
        "outputId": "3a84ed50-59a9-4529-ecdd-8359eefaa558"
      },
      "outputs": [
        {
          "data": {
            "text/plain": [
              "{'expected_loss': 8.517193, 'expected_acc': 0.0002}"
            ]
          },
          "execution_count": 116,
          "metadata": {},
          "output_type": "execute_result"
        }
      ],
      "source": [
        "vocab_size = 1.0 * target_text_processor.vocabulary_size()\n",
        "\n",
        "{\"expected_loss\": tf.math.log(vocab_size).numpy(),\n",
        " \"expected_acc\": 1/vocab_size}"
      ]
    },
    {
      "cell_type": "code",
      "execution_count": 117,
      "metadata": {
        "colab": {
          "base_uri": "https://localhost:8080/"
        },
        "id": "aCNYkOn5I-0y",
        "outputId": "fc9497f5-99f2-49aa-89e3-21b65a7f5107"
      },
      "outputs": [
        {
          "name": "stdout",
          "output_type": "stream",
          "text": [
            "20/20 [==============================] - 20s 230ms/step - loss: 8.4424 - masked_acc: 4.0984e-04 - masked_loss: 8.4424\n"
          ]
        },
        {
          "data": {
            "text/plain": [
              "{'loss': 8.442436218261719,\n",
              " 'masked_acc': 0.0004098360368516296,\n",
              " 'masked_loss': 8.442435264587402}"
            ]
          },
          "execution_count": 117,
          "metadata": {},
          "output_type": "execute_result"
        }
      ],
      "source": [
        "model.evaluate(val_ds, steps=20, return_dict=True)"
      ]
    },
    {
      "cell_type": "code",
      "execution_count": 118,
      "metadata": {
        "colab": {
          "base_uri": "https://localhost:8080/"
        },
        "id": "8m5YiH4pJJsF",
        "outputId": "6e1805b2-a0d4-4f9e-cbb3-69d3b762ec6a"
      },
      "outputs": [
        {
          "name": "stdout",
          "output_type": "stream",
          "text": [
            "Epoch 1/50\n",
            "10/10 [==============================] - 40s 1s/step - loss: 5.7790 - masked_acc: 0.3743 - masked_loss: 5.7790 - val_loss: 3.3480 - val_masked_acc: 0.4073 - val_masked_loss: 3.3480\n",
            "Epoch 2/50\n",
            "10/10 [==============================] - 11s 1s/step - loss: 2.9597 - masked_acc: 0.4328 - masked_loss: 2.9597 - val_loss: 2.5575 - val_masked_acc: 0.4697 - val_masked_loss: 2.5575\n",
            "Epoch 3/50\n",
            "10/10 [==============================] - 11s 1s/step - loss: 2.6447 - masked_acc: 0.5250 - masked_loss: 2.6447 - val_loss: 2.3461 - val_masked_acc: 0.6513 - val_masked_loss: 2.3461\n",
            "Epoch 4/50\n",
            "10/10 [==============================] - 11s 1s/step - loss: 2.4718 - masked_acc: 0.6294 - masked_loss: 2.4718 - val_loss: 1.9008 - val_masked_acc: 0.6472 - val_masked_loss: 1.9008\n",
            "Epoch 5/50\n",
            "10/10 [==============================] - 11s 1s/step - loss: 1.9707 - masked_acc: 0.6898 - masked_loss: 1.9707 - val_loss: 1.8377 - val_masked_acc: 0.7061 - val_masked_loss: 1.8377\n",
            "Epoch 6/50\n",
            "10/10 [==============================] - 11s 1s/step - loss: 2.0753 - masked_acc: 0.6624 - masked_loss: 2.0753 - val_loss: 1.8020 - val_masked_acc: 0.7412 - val_masked_loss: 1.8020\n",
            "Epoch 7/50\n",
            "10/10 [==============================] - 11s 1s/step - loss: 1.9749 - masked_acc: 0.7065 - masked_loss: 1.9749 - val_loss: 1.7432 - val_masked_acc: 0.7260 - val_masked_loss: 1.7432\n",
            "Epoch 8/50\n",
            "10/10 [==============================] - 10s 1s/step - loss: 2.0599 - masked_acc: 0.7047 - masked_loss: 2.0599 - val_loss: 1.8190 - val_masked_acc: 0.7393 - val_masked_loss: 1.8190\n",
            "Epoch 9/50\n",
            "10/10 [==============================] - 10s 1s/step - loss: 1.8236 - masked_acc: 0.7320 - masked_loss: 1.8236 - val_loss: 1.8248 - val_masked_acc: 0.7236 - val_masked_loss: 1.8248\n",
            "Epoch 10/50\n",
            "10/10 [==============================] - 11s 1s/step - loss: 1.9983 - masked_acc: 0.7001 - masked_loss: 1.9983 - val_loss: 1.7158 - val_masked_acc: 0.7469 - val_masked_loss: 1.7158\n",
            "Epoch 11/50\n",
            "10/10 [==============================] - 10s 1s/step - loss: 1.8902 - masked_acc: 0.7268 - masked_loss: 1.8902 - val_loss: 1.6595 - val_masked_acc: 0.7584 - val_masked_loss: 1.6595\n",
            "Epoch 12/50\n",
            "10/10 [==============================] - 11s 1s/step - loss: 1.7755 - masked_acc: 0.7442 - masked_loss: 1.7755 - val_loss: 1.7156 - val_masked_acc: 0.7425 - val_masked_loss: 1.7156\n",
            "Epoch 13/50\n",
            "10/10 [==============================] - 10s 1s/step - loss: 1.7674 - masked_acc: 0.7564 - masked_loss: 1.7674 - val_loss: 1.6899 - val_masked_acc: 0.7594 - val_masked_loss: 1.6899\n",
            "Epoch 14/50\n",
            "10/10 [==============================] - 10s 1s/step - loss: 1.9523 - masked_acc: 0.7258 - masked_loss: 1.9523 - val_loss: 1.6218 - val_masked_acc: 0.7797 - val_masked_loss: 1.6218\n",
            "Epoch 15/50\n",
            "10/10 [==============================] - 10s 1s/step - loss: 1.8344 - masked_acc: 0.7419 - masked_loss: 1.8344 - val_loss: 1.6736 - val_masked_acc: 0.7572 - val_masked_loss: 1.6736\n",
            "Epoch 16/50\n",
            "10/10 [==============================] - 11s 1s/step - loss: 1.9099 - masked_acc: 0.7368 - masked_loss: 1.9099 - val_loss: 1.5752 - val_masked_acc: 0.7716 - val_masked_loss: 1.5752\n",
            "Epoch 17/50\n",
            "10/10 [==============================] - 11s 1s/step - loss: 1.8260 - masked_acc: 0.7542 - masked_loss: 1.8260 - val_loss: 1.6046 - val_masked_acc: 0.7706 - val_masked_loss: 1.6046\n",
            "Epoch 18/50\n",
            "10/10 [==============================] - 11s 1s/step - loss: 1.8518 - masked_acc: 0.7454 - masked_loss: 1.8518 - val_loss: 1.6288 - val_masked_acc: 0.7768 - val_masked_loss: 1.6288\n",
            "Epoch 19/50\n",
            "10/10 [==============================] - 10s 1s/step - loss: 1.8282 - masked_acc: 0.7504 - masked_loss: 1.8282 - val_loss: 1.5637 - val_masked_acc: 0.7712 - val_masked_loss: 1.5637\n",
            "Epoch 20/50\n",
            "10/10 [==============================] - 11s 1s/step - loss: 1.8743 - masked_acc: 0.7470 - masked_loss: 1.8743 - val_loss: 1.6305 - val_masked_acc: 0.7606 - val_masked_loss: 1.6305\n",
            "Epoch 21/50\n",
            "10/10 [==============================] - 10s 1s/step - loss: 1.7612 - masked_acc: 0.7460 - masked_loss: 1.7612 - val_loss: 1.5445 - val_masked_acc: 0.7696 - val_masked_loss: 1.5445\n",
            "Epoch 22/50\n",
            "10/10 [==============================] - 11s 1s/step - loss: 1.9734 - masked_acc: 0.7271 - masked_loss: 1.9734 - val_loss: 1.6155 - val_masked_acc: 0.7671 - val_masked_loss: 1.6155\n",
            "Epoch 23/50\n",
            "10/10 [==============================] - 11s 1s/step - loss: 1.8079 - masked_acc: 0.7439 - masked_loss: 1.8079 - val_loss: 1.5909 - val_masked_acc: 0.7677 - val_masked_loss: 1.5909\n",
            "Epoch 24/50\n",
            "10/10 [==============================] - 10s 1s/step - loss: 1.7704 - masked_acc: 0.7676 - masked_loss: 1.7704 - val_loss: 1.5078 - val_masked_acc: 0.7803 - val_masked_loss: 1.5078\n",
            "Epoch 25/50\n",
            "10/10 [==============================] - 10s 1s/step - loss: 1.9472 - masked_acc: 0.7397 - masked_loss: 1.9472 - val_loss: 1.5246 - val_masked_acc: 0.7511 - val_masked_loss: 1.5246\n",
            "Epoch 26/50\n",
            "10/10 [==============================] - 10s 1s/step - loss: 1.6379 - masked_acc: 0.7655 - masked_loss: 1.6379 - val_loss: 1.5675 - val_masked_acc: 0.7715 - val_masked_loss: 1.5675\n",
            "Epoch 27/50\n",
            "10/10 [==============================] - 10s 1s/step - loss: 1.5839 - masked_acc: 0.7724 - masked_loss: 1.5839 - val_loss: 1.4515 - val_masked_acc: 0.7871 - val_masked_loss: 1.4515\n",
            "Epoch 28/50\n",
            "10/10 [==============================] - 11s 1s/step - loss: 1.5965 - masked_acc: 0.7698 - masked_loss: 1.5965 - val_loss: 1.5230 - val_masked_acc: 0.7754 - val_masked_loss: 1.5230\n",
            "Epoch 29/50\n",
            "10/10 [==============================] - 11s 1s/step - loss: 1.7965 - masked_acc: 0.7635 - masked_loss: 1.7965 - val_loss: 1.5794 - val_masked_acc: 0.7803 - val_masked_loss: 1.5794\n",
            "Epoch 30/50\n",
            "10/10 [==============================] - 10s 1s/step - loss: 1.7040 - masked_acc: 0.7613 - masked_loss: 1.7040 - val_loss: 1.4588 - val_masked_acc: 0.7889 - val_masked_loss: 1.4588\n",
            "Epoch 31/50\n",
            "10/10 [==============================] - 11s 1s/step - loss: 1.6369 - masked_acc: 0.7723 - masked_loss: 1.6369 - val_loss: 1.4091 - val_masked_acc: 0.7925 - val_masked_loss: 1.4091\n",
            "Epoch 32/50\n",
            "10/10 [==============================] - 11s 1s/step - loss: 1.7777 - masked_acc: 0.7571 - masked_loss: 1.7777 - val_loss: 1.5289 - val_masked_acc: 0.7724 - val_masked_loss: 1.5289\n",
            "Epoch 33/50\n",
            "10/10 [==============================] - 11s 1s/step - loss: 1.6956 - masked_acc: 0.7683 - masked_loss: 1.6956 - val_loss: 1.4419 - val_masked_acc: 0.7834 - val_masked_loss: 1.4419\n",
            "Epoch 34/50\n",
            "10/10 [==============================] - 10s 1s/step - loss: 1.6420 - masked_acc: 0.7697 - masked_loss: 1.6420 - val_loss: 1.4541 - val_masked_acc: 0.7799 - val_masked_loss: 1.4541\n",
            "Epoch 35/50\n",
            "10/10 [==============================] - 11s 1s/step - loss: 1.7059 - masked_acc: 0.7550 - masked_loss: 1.7059 - val_loss: 1.4557 - val_masked_acc: 0.7950 - val_masked_loss: 1.4557\n",
            "Epoch 36/50\n",
            "10/10 [==============================] - 11s 1s/step - loss: 1.5262 - masked_acc: 0.7872 - masked_loss: 1.5262 - val_loss: 1.5163 - val_masked_acc: 0.7848 - val_masked_loss: 1.5163\n",
            "Epoch 37/50\n",
            "10/10 [==============================] - 10s 1s/step - loss: 1.7376 - masked_acc: 0.7563 - masked_loss: 1.7376 - val_loss: 1.4300 - val_masked_acc: 0.7881 - val_masked_loss: 1.4300\n",
            "Epoch 38/50\n",
            "10/10 [==============================] - 10s 1s/step - loss: 1.6909 - masked_acc: 0.7698 - masked_loss: 1.6909 - val_loss: 1.3574 - val_masked_acc: 0.7987 - val_masked_loss: 1.3574\n",
            "Epoch 39/50\n",
            "10/10 [==============================] - 11s 1s/step - loss: 1.4517 - masked_acc: 0.7837 - masked_loss: 1.4517 - val_loss: 1.4397 - val_masked_acc: 0.7806 - val_masked_loss: 1.4397\n",
            "Epoch 40/50\n",
            "10/10 [==============================] - 11s 1s/step - loss: 1.5769 - masked_acc: 0.7696 - masked_loss: 1.5769 - val_loss: 1.4699 - val_masked_acc: 0.7861 - val_masked_loss: 1.4699\n",
            "Epoch 41/50\n",
            "10/10 [==============================] - 10s 1s/step - loss: 1.6847 - masked_acc: 0.7755 - masked_loss: 1.6847 - val_loss: 1.4430 - val_masked_acc: 0.7855 - val_masked_loss: 1.4430\n",
            "Epoch 42/50\n",
            "10/10 [==============================] - 10s 1s/step - loss: 1.6416 - masked_acc: 0.7726 - masked_loss: 1.6416 - val_loss: 1.3966 - val_masked_acc: 0.7958 - val_masked_loss: 1.3966\n",
            "Epoch 43/50\n",
            "10/10 [==============================] - 10s 1s/step - loss: 1.4918 - masked_acc: 0.7938 - masked_loss: 1.4918 - val_loss: 1.4231 - val_masked_acc: 0.7921 - val_masked_loss: 1.4231\n",
            "Epoch 44/50\n",
            "10/10 [==============================] - 10s 1s/step - loss: 1.6284 - masked_acc: 0.7794 - masked_loss: 1.6284 - val_loss: 1.4099 - val_masked_acc: 0.7888 - val_masked_loss: 1.4099\n",
            "Epoch 45/50\n",
            "10/10 [==============================] - 10s 1s/step - loss: 1.4785 - masked_acc: 0.7917 - masked_loss: 1.4785 - val_loss: 1.4304 - val_masked_acc: 0.7709 - val_masked_loss: 1.4304\n",
            "Epoch 46/50\n",
            "10/10 [==============================] - 11s 1s/step - loss: 1.6960 - masked_acc: 0.7639 - masked_loss: 1.6960 - val_loss: 1.5211 - val_masked_acc: 0.7758 - val_masked_loss: 1.5211\n",
            "Epoch 47/50\n",
            "10/10 [==============================] - 10s 1s/step - loss: 1.5335 - masked_acc: 0.7937 - masked_loss: 1.5335 - val_loss: 1.4528 - val_masked_acc: 0.7950 - val_masked_loss: 1.4528\n",
            "Epoch 48/50\n",
            "10/10 [==============================] - 10s 1s/step - loss: 1.6872 - masked_acc: 0.7664 - masked_loss: 1.6872 - val_loss: 1.3923 - val_masked_acc: 0.7996 - val_masked_loss: 1.3923\n",
            "Epoch 49/50\n",
            "10/10 [==============================] - 10s 1s/step - loss: 1.4825 - masked_acc: 0.7860 - masked_loss: 1.4825 - val_loss: 1.4135 - val_masked_acc: 0.7903 - val_masked_loss: 1.4135\n",
            "Epoch 50/50\n",
            "10/10 [==============================] - 11s 1s/step - loss: 1.6411 - masked_acc: 0.7748 - masked_loss: 1.6411 - val_loss: 1.4561 - val_masked_acc: 0.7968 - val_masked_loss: 1.4561\n"
          ]
        }
      ],
      "source": [
        "history = model.fit(\n",
        "    train_ds.repeat(), \n",
        "    epochs=50,\n",
        "    steps_per_epoch = 10,\n",
        "    validation_data=val_ds,\n",
        "    validation_steps = 20)\n",
        "    # ,callbacks=[\n",
        "    #     tf.keras.callbacks.EarlyStopping(patience=3)])"
      ]
    },
    {
      "cell_type": "code",
      "execution_count": 119,
      "metadata": {
        "colab": {
          "base_uri": "https://localhost:8080/",
          "height": 296
        },
        "id": "UQEUanLuKtoZ",
        "outputId": "17988217-fc33-4c6b-e4de-e365acee8b17"
      },
      "outputs": [
        {
          "data": {
            "text/plain": [
              "<matplotlib.legend.Legend at 0x20906d8b350>"
            ]
          },
          "execution_count": 119,
          "metadata": {},
          "output_type": "execute_result"
        },
        {
          "data": {
            "image/png": "[encoded data removed]",
            "text/plain": [
              "<Figure size 640x480 with 1 Axes>"
            ]
          },
          "metadata": {},
          "output_type": "display_data"
        }
      ],
      "source": [
        "plt.plot(history.history['loss'], label='loss')\n",
        "plt.plot(history.history['val_loss'], label='val_loss')\n",
        "plt.ylim([0, max(plt.ylim())])\n",
        "plt.xlabel('Epoch #')\n",
        "plt.ylabel('CE/token')\n",
        "plt.legend()"
      ]
    },
    {
      "cell_type": "code",
      "execution_count": 120,
      "metadata": {
        "colab": {
          "base_uri": "https://localhost:8080/",
          "height": 296
        },
        "id": "m94YxGWfKvrc",
        "outputId": "8e640efb-84a4-492d-f895-83c6c9549dd0"
      },
      "outputs": [
        {
          "data": {
            "text/plain": [
              "<matplotlib.legend.Legend at 0x20906dbfb50>"
            ]
          },
          "execution_count": 120,
          "metadata": {},
          "output_type": "execute_result"
        },
        {
          "data": {
            "image/png": "[encoded data removed]",
            "text/plain": [
              "<Figure size 640x480 with 1 Axes>"
            ]
          },
          "metadata": {},
          "output_type": "display_data"
        }
      ],
      "source": [
        "plt.plot(history.history['masked_acc'], label='accuracy')\n",
        "plt.plot(history.history['val_masked_acc'], label='val_accuracy')\n",
        "plt.ylim([0, max(plt.ylim())])\n",
        "plt.xlabel('Epoch #')\n",
        "plt.ylabel('CE/token')\n",
        "plt.legend()"
      ]
    },
    {
      "cell_type": "markdown",
      "metadata": {
        "id": "DVA7-0LiK5Gh"
      },
      "source": [
        "### Translate\n",
        "\n",
        "Now that the model is trained, implement a function to execute the full `text => text` translation. This code is basically identical to the [inference example](#inference) in the [decoder section](#the_decoder), but this also captures the attention weights."
      ]
    },
    {
      "cell_type": "code",
      "execution_count": 121,
      "metadata": {
        "id": "VOJqV2TYKzew"
      },
      "outputs": [],
      "source": [
        "#@title\n",
        "@Translator.add_method\n",
        "def translate(self,\n",
        "              texts, *,\n",
        "              max_length=50,\n",
        "              temperature=0.0):\n",
        "  # Process the input texts\n",
        "  context = self.encoder.convert_input(texts)\n",
        "  batch_size = tf.shape(texts)[0]\n",
        "  \n",
        "\n",
        "  # Setup the loop inputs\n",
        "  tokens = []\n",
        "  attention_weights = []\n",
        "  next_token, done, state = self.decoder.get_initial_state(context)\n",
        "\n",
        "  for _ in range(max_length):\n",
        "    # Generate the next token\n",
        "    next_token, done, state = self.decoder.get_next_token(\n",
        "        context, next_token, done,  state, temperature)\n",
        "        \n",
        "    # Collect the generated tokens\n",
        "    tokens.append(next_token)\n",
        "    attention_weights.append(self.decoder.last_attention_weights)\n",
        "    \n",
        "    if tf.executing_eagerly() and tf.reduce_all(done):\n",
        "      break\n",
        "\n",
        "  # Stack the lists of tokens and attention weights.\n",
        "  tokens = tf.concat(tokens, axis=-1)   # t*[(batch 1)] -> (batch, t)\n",
        "  self.last_attention_weights = tf.concat(attention_weights, axis=1)  # t*[(batch 1 s)] -> (batch, t s)\n",
        "\n",
        "  result = self.decoder.tokens_to_text(tokens)\n",
        "  return result"
      ]
    },
    {
      "cell_type": "markdown",
      "metadata": {
        "id": "4TiUYnfSK_xj"
      },
      "source": [
        "Here are the two helper methods, used above, to convert tokens to text, and to get the next token:"
      ]
    },
    {
      "cell_type": "code",
      "execution_count": 122,
      "metadata": {
        "colab": {
          "base_uri": "https://localhost:8080/",
          "height": 35
        },
        "id": "gZdJjizMwt7q",
        "outputId": "3b66266f-e8b5-4efa-a9cc-9028276d9b74"
      },
      "outputs": [
        {
          "data": {
            "text/plain": [
              "', [UNK] '"
            ]
          },
          "execution_count": 122,
          "metadata": {},
          "output_type": "execute_result"
        }
      ],
      "source": [
        "#musician\n",
        "#ᓂᔾᔭᐅᓯᔭᖅᑎ\n",
        "text=\"musician\"\n",
        "\n",
        "result = model.translate([text]) \n",
        "result[0].numpy().decode()\n"
      ]
    },
    {
      "cell_type": "code",
      "execution_count": 71,
      "metadata": {
        "colab": {
          "base_uri": "https://localhost:8080/",
          "height": 35
        },
        "id": "Lcwk4OWuyHDX",
        "outputId": "8a659d36-ca98-47ca-e5c3-018710261c1e"
      },
      "outputs": [
        {
          "data": {
            "text/plain": [
              "'i have a lot . '"
            ]
          },
          "execution_count": 71,
          "metadata": {},
          "output_type": "execute_result"
        }
      ],
      "source": [
        "#ᑳᐱ\n",
        "#coffee\n",
        "\n",
        "text=\"ᑳᐱ\"\n",
        "\n",
        "result = model.translate([text]) \n",
        "result[0].numpy().decode()\n"
      ]
    },
    {
      "cell_type": "code",
      "execution_count": null,
      "metadata": {
        "colab": {
          "base_uri": "https://localhost:8080/",
          "height": 35
        },
        "id": "U0_UJ0cgK0eV",
        "outputId": "ef054f73-c296-4b43-92ff-37f59ca64496"
      },
      "outputs": [
        {
          "data": {
            "application/vnd.google.colaboratory.intrinsic+json": {
              "type": "string"
            },
            "text/plain": [
              "'cup mug '"
            ]
          },
          "execution_count": 49,
          "metadata": {},
          "output_type": "execute_result"
        }
      ],
      "source": [
        "#ᐃᕐᖑᓯᖅ\n",
        "#cup,mug\n",
        "\n",
        "\n",
        "text=\"ᐃᕐᖑᓯᖅ\"\n",
        "\n",
        "result = model.translate([text]) \n",
        "result[0].numpy().decode()\n"
      ]
    },
    {
      "cell_type": "code",
      "execution_count": null,
      "metadata": {
        "colab": {
          "base_uri": "https://localhost:8080/",
          "height": 35
        },
        "id": "pTdqLSdmK0Wv",
        "outputId": "cd616383-740d-41d0-99c7-0a9a1b40554e"
      },
      "outputs": [
        {
          "data": {
            "application/vnd.google.colaboratory.intrinsic+json": {
              "type": "string"
            },
            "text/plain": [
              "'contains a liquid it . . . '"
            ]
          },
          "execution_count": 50,
          "metadata": {},
          "output_type": "execute_result"
        }
      ],
      "source": [
        "#ᐃᒪᓕᒃ\n",
        "#contains a liquid (it...)\n",
        "\n",
        "text=\"ᐃᒪᓕᒃ\"\n",
        "\n",
        "result = model.translate([text]) \n",
        "result[0].numpy().decode()\n",
        "\n"
      ]
    },
    {
      "cell_type": "code",
      "execution_count": null,
      "metadata": {
        "colab": {
          "base_uri": "https://localhost:8080/",
          "height": 35
        },
        "id": "SQxl2WiTLOWM",
        "outputId": "2fbdb740-90f2-44c0-ab84-013709fa9806"
      },
      "outputs": [
        {
          "data": {
            "application/vnd.google.colaboratory.intrinsic+json": {
              "type": "string"
            },
            "text/plain": [
              "'how old are you ? why do you want to know ? '"
            ]
          },
          "execution_count": 51,
          "metadata": {},
          "output_type": "execute_result"
        }
      ],
      "source": [
        "#\"ᖃᔅᓯᓂᒃ ᐅᑭᐅᖃᖅᐱᑦ?\" \"ᖃᓄᐃᒻᒪᑦ ᖃᐅᔨᔪᒪᕕᑦ?\"\n",
        "#\"How old are you?\" \"Why do you want to know?\"\n",
        "\n",
        "text='\"ᖃᔅᓯᓂᒃ ᐅᑭᐅᖃᖅᐱᑦ?\" \"ᖃᓄᐃᒻᒪᑦ ᖃᐅᔨᔪᒪᕕᑦ?\"'\n",
        "\n",
        "result = model.translate([text]) \n",
        "result[0].numpy().decode()\n",
        "\n"
      ]
    },
    {
      "cell_type": "code",
      "execution_count": 123,
      "metadata": {
        "id": "VMFAqh4L5SzY"
      },
      "outputs": [],
      "source": [
        "class Export(tf.Module):\n",
        "  def __init__(self, model):\n",
        "    self.model = model\n",
        "\n",
        "  @tf.function(input_signature=[tf.TensorSpec(dtype=tf.string, shape=[None])])\n",
        "  def translate(self, inputs):\n",
        "    return self.model.translate(inputs)"
      ]
    },
    {
      "cell_type": "code",
      "execution_count": 124,
      "metadata": {
        "id": "zNEqMad867UR"
      },
      "outputs": [],
      "source": [
        "export = Export(model)"
      ]
    },
    {
      "cell_type": "code",
      "execution_count": 125,
      "metadata": {
        "colab": {
          "base_uri": "https://localhost:8080/"
        },
        "id": "ocDUvbLw5VuA",
        "outputId": "d02d5077-4469-4418-a211-99cac149ac47"
      },
      "outputs": [
        {
          "name": "stdout",
          "output_type": "stream",
          "text": [
            "WARNING:tensorflow:Model's `__init__()` arguments contain non-serializable objects. Please implement a `get_config()` method in the subclassed Model for proper saving and loading. Defaulting to empty config.\n"
          ]
        },
        {
          "name": "stderr",
          "output_type": "stream",
          "text": [
            "WARNING:tensorflow:Model's `__init__()` arguments contain non-serializable objects. Please implement a `get_config()` method in the subclassed Model for proper saving and loading. Defaulting to empty config.\n"
          ]
        },
        {
          "name": "stdout",
          "output_type": "stream",
          "text": [
            "WARNING:tensorflow:Model's `__init__()` arguments contain non-serializable objects. Please implement a `get_config()` method in the subclassed Model for proper saving and loading. Defaulting to empty config.\n"
          ]
        },
        {
          "name": "stderr",
          "output_type": "stream",
          "text": [
            "WARNING:tensorflow:Model's `__init__()` arguments contain non-serializable objects. Please implement a `get_config()` method in the subclassed Model for proper saving and loading. Defaulting to empty config.\n",
            "WARNING:absl:Found untraced functions such as _update_step_xla, embedding_8_layer_call_fn, embedding_8_layer_call_and_return_conditional_losses, embedding_9_layer_call_fn, embedding_9_layer_call_and_return_conditional_losses while saving (showing 5 of 33). These functions will not be directly callable after loading.\n"
          ]
        },
        {
          "name": "stdout",
          "output_type": "stream",
          "text": [
            "INFO:tensorflow:Assets written to: translator_english\\assets\n"
          ]
        },
        {
          "name": "stderr",
          "output_type": "stream",
          "text": [
            "INFO:tensorflow:Assets written to: translator_english\\assets\n"
          ]
        }
      ],
      "source": [
        "tf.saved_model.save(export, 'translator_english',\n",
        "                    signatures={'serving_default': export.translate})"
      ]
    },
    {
      "cell_type": "code",
      "execution_count": 126,
      "metadata": {
        "id": "a0p60jFOL42F"
      },
      "outputs": [],
      "source": [
        "# model.save('/content/drive/MyDrive/Text to Text/model_trained')"
      ]
    },
    {
      "cell_type": "code",
      "execution_count": 127,
      "metadata": {
        "id": "lEwZ3ZE944-Y"
      },
      "outputs": [],
      "source": [
        "reloaded = tf.saved_model.load('translator_english')"
      ]
    },
    {
      "cell_type": "code",
      "execution_count": 128,
      "metadata": {
        "colab": {
          "base_uri": "https://localhost:8080/",
          "height": 35
        },
        "id": "pf3AAikx71vT",
        "outputId": "995196bb-0fde-4edf-d72e-2d2853ceb698"
      },
      "outputs": [
        {
          "data": {
            "text/plain": [
              "', ᑖᒻ , [UNK]                                              '"
            ]
          },
          "execution_count": 128,
          "metadata": {},
          "output_type": "execute_result"
        }
      ],
      "source": [
        "#ᐃᕐᖑᓯᖅ\n",
        "#cup,mug\n",
        "\n",
        "\n",
        "text=\" Tom has betrayed me.\"\n",
        "\n",
        "result = reloaded.translate([text]) \n",
        "result[0].numpy().decode()"
      ]
    },
    {
      "cell_type": "code",
      "execution_count": 61,
      "metadata": {},
      "outputs": [
        {
          "data": {
            "text/plain": [
              "0                                                    hello\n",
              "1                 \"A\" is the first letter of the alphabet.\n",
              "2               \"Are those your books?\" \"No, they aren't.\"\n",
              "3            \"Are you from Australia?\" asked the Filipino.\n",
              "4        \"Could you move over a little?\" \"Oh, sorry. I ...\n",
              "                               ...                        \n",
              "71174                       Tom has begun to learn French.\n",
              "71175                    Tom has begun writing a new book.\n",
              "71176                                 Tom has betrayed me.\n",
              "71177                                 Tom has betrayed us.\n",
              "71178                                    Tom has big ears.\n",
              "Name: English, Length: 71179, dtype: object"
            ]
          },
          "execution_count": 61,
          "metadata": {},
          "output_type": "execute_result"
        }
      ],
      "source": [
        "df['English']"
      ]
    },
    {
      "cell_type": "code",
      "execution_count": null,
      "metadata": {},
      "outputs": [],
      "source": []
    }
  ],
  "metadata": {
    "accelerator": "GPU",
    "colab": {
      "provenance": []
    },
    "gpuClass": "standard",
    "kernelspec": {
      "display_name": "Python 3",
      "name": "python3"
    },
    "language_info": {
      "codemirror_mode": {
        "name": "ipython",
        "version": 3
      },
      "file_extension": ".py",
      "mimetype": "text/x-python",
      "name": "python",
      "nbconvert_exporter": "python",
      "pygments_lexer": "ipython3",
      "version": "3.11.0"
    }
  },
  "nbformat": 4,
  "nbformat_minor": 0
}
