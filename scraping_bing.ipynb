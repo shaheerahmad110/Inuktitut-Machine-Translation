{
  "cells": [
    {
      "cell_type": "code",
      "execution_count": 9,
      "metadata": {},
      "outputs": [
        {
          "data": {
            "text/html": [
              "<div>\n",
              "<style scoped>\n",
              "    .dataframe tbody tr th:only-of-type {\n",
              "        vertical-align: middle;\n",
              "    }\n",
              "\n",
              "    .dataframe tbody tr th {\n",
              "        vertical-align: top;\n",
              "    }\n",
              "\n",
              "    .dataframe thead th {\n",
              "        text-align: right;\n",
              "    }\n",
              "</style>\n",
              "<table border=\"1\" class=\"dataframe\">\n",
              "  <thead>\n",
              "    <tr style=\"text-align: right;\">\n",
              "      <th></th>\n",
              "      <th>English</th>\n",
              "      <th>inuktitut</th>\n",
              "    </tr>\n",
              "  </thead>\n",
              "  <tbody>\n",
              "    <tr>\n",
              "      <th>0</th>\n",
              "      <td>\"A\" is the first letter of the alphabet.</td>\n",
              "      <td>0</td>\n",
              "    </tr>\n",
              "    <tr>\n",
              "      <th>1</th>\n",
              "      <td>\"Are those your books?\" \"No, they aren't.\"</td>\n",
              "      <td>0</td>\n",
              "    </tr>\n",
              "    <tr>\n",
              "      <th>2</th>\n",
              "      <td>\"Are you from Australia?\" asked the Filipino.</td>\n",
              "      <td>0</td>\n",
              "    </tr>\n",
              "    <tr>\n",
              "      <th>3</th>\n",
              "      <td>\"Could you move over a little?\" \"Oh, sorry. I ...</td>\n",
              "      <td>0</td>\n",
              "    </tr>\n",
              "    <tr>\n",
              "      <th>4</th>\n",
              "      <td>\"Do you have a pen?\" \"Yes, I have one.\"</td>\n",
              "      <td>0</td>\n",
              "    </tr>\n",
              "    <tr>\n",
              "      <th>...</th>\n",
              "      <td>...</td>\n",
              "      <td>...</td>\n",
              "    </tr>\n",
              "    <tr>\n",
              "      <th>103957</th>\n",
              "      <td>Zebras have stripes.</td>\n",
              "      <td>0</td>\n",
              "    </tr>\n",
              "    <tr>\n",
              "      <th>103958</th>\n",
              "      <td>Zero comes before one.</td>\n",
              "      <td>0</td>\n",
              "    </tr>\n",
              "    <tr>\n",
              "      <th>103959</th>\n",
              "      <td>Zero is a special number.</td>\n",
              "      <td>0</td>\n",
              "    </tr>\n",
              "    <tr>\n",
              "      <th>103960</th>\n",
              "      <td>Zimbabwe was once a colony of Britain.</td>\n",
              "      <td>0</td>\n",
              "    </tr>\n",
              "    <tr>\n",
              "      <th>103961</th>\n",
              "      <td>Zucchinis are green.</td>\n",
              "      <td>0</td>\n",
              "    </tr>\n",
              "  </tbody>\n",
              "</table>\n",
              "<p>103962 rows × 2 columns</p>\n",
              "</div>"
            ],
            "text/plain": [
              "                                                  English  inuktitut\n",
              "0                \"A\" is the first letter of the alphabet.          0\n",
              "1              \"Are those your books?\" \"No, they aren't.\"          0\n",
              "2           \"Are you from Australia?\" asked the Filipino.          0\n",
              "3       \"Could you move over a little?\" \"Oh, sorry. I ...          0\n",
              "4                 \"Do you have a pen?\" \"Yes, I have one.\"          0\n",
              "...                                                   ...        ...\n",
              "103957                               Zebras have stripes.          0\n",
              "103958                             Zero comes before one.          0\n",
              "103959                          Zero is a special number.          0\n",
              "103960             Zimbabwe was once a colony of Britain.          0\n",
              "103961                               Zucchinis are green.          0\n",
              "\n",
              "[103962 rows x 2 columns]"
            ]
          },
          "execution_count": 9,
          "metadata": {},
          "output_type": "execute_result"
        }
      ],
      "source": [
        "import pandas as pd\n",
        "df=pd.read_csv('parallel.csv')\n",
        "df"
      ]
    },
    {
      "cell_type": "code",
      "execution_count": 12,
      "metadata": {},
      "outputs": [],
      "source": [
        "outptr=open('counter.txt','w')\n",
        "outptr.write('1')\n",
        "outptr.close()"
      ]
    },
    {
      "cell_type": "code",
      "execution_count": 15,
      "metadata": {},
      "outputs": [
        {
          "data": {
            "text/plain": [
              "1"
            ]
          },
          "execution_count": 15,
          "metadata": {},
          "output_type": "execute_result"
        }
      ],
      "source": [
        "inptr=open('counter.txt')\n",
        "int(inptr.read())"
      ]
    },
    {
      "cell_type": "code",
      "execution_count": 5,
      "metadata": {
        "id": "Ery7bqM23B2I",
        "outputId": "bfc7e718-e729-4ddc-bd43-4e4fe62f8fa8"
      },
      "outputs": [
        {
          "name": "stderr",
          "output_type": "stream",
          "text": [
            "C:\\Users\\Lenovo\\AppData\\Local\\Temp\\ipykernel_9060\\3703198382.py:12: DeprecationWarning: executable_path has been deprecated, please pass in a Service object\n",
            "  driver = webdriver.Chrome(\"chromedriver.exe\")\n"
          ]
        }
      ],
      "source": [
        "from time import sleep\n",
        "from selenium import webdriver\n",
        "from selenium.webdriver.common.by import By\n",
        "#For BackSpace.\n",
        "from selenium.webdriver.common.keys import Keys\n",
        "import pandas as pd\n",
        "\n",
        "while True:\n",
        "\n",
        "  try:\n",
        "\n",
        "    driver = webdriver.Chrome(\"chromedriver.exe\")\n",
        "    driver.get(\"https://www.bing.com/translator?to=iu&setlang=ig\")\n",
        "\n",
        "    time_count=0\n",
        "    inptr=open('counter.txt')\n",
        "    start=int(inptr.read())\n",
        "    end=df.shape[0]-1\n",
        "    index_pointer=start\n",
        "    for index in range(start,end+1):\n",
        "        input_el = driver.find_element(By.CLASS_NAME, \"tta_incontainer\")\n",
        "        sleep(3)\n",
        "        input_el.find_element(By.TAG_NAME, \"textarea\").send_keys(df['English'][index])\n",
        "\n",
        "        copy_button = driver.find_element(By.ID, \"tta_copyIcon\")\n",
        "        while not copy_button.is_enabled():\n",
        "            pass\n",
        "\n",
        "        while True:\n",
        "            sleep(3)\n",
        "            copy_button.click()\n",
        "            sleep(3)\n",
        "            for i in range(len(df['English'][index])):\n",
        "                input_el.find_element(By.TAG_NAME, \"textarea\").send_keys(Keys.BACK_SPACE)\n",
        "            sleep(3)\n",
        "            # This text is translated\n",
        "            translated_text = pd.read_clipboard().columns[0]\n",
        "            df['inuktitut'][index]=translated_text\n",
        "            if \"...\" not in translated_text:\n",
        "                break\n",
        "\n",
        "        if time_count==2:\n",
        "            df.to_csv('english_inuktitut_parallel_corpus_bing_2.csv',index=False)\n",
        "            time_count=0\n",
        "        else:\n",
        "            time_count+=1\n",
        "        index_pointer=index\n",
        "        outptr=open('counter.txt','w')\n",
        "        outptr.write(index_pointer)\n",
        "        outptr.close()\n",
        "\n",
        "  except:\n",
        "    pass\n",
        "\n"
      ]
    },
    {
      "cell_type": "code",
      "execution_count": null,
      "metadata": {
        "id": "a-ooYjxG3B2R"
      },
      "outputs": [],
      "source": [
        "df.to_csv('english_inuktitut_parallel_corpus_bing_1.csv',index=False)"
      ]
    },
    {
      "cell_type": "code",
      "execution_count": 4,
      "metadata": {},
      "outputs": [
        {
          "data": {
            "text/plain": [
              "\"df.to_csv('english_inuktitut_parallel_corpus_bing_1.csv',index=False)\""
            ]
          },
          "execution_count": 4,
          "metadata": {},
          "output_type": "execute_result"
        }
      ],
      "source": [
        "import pandas as pd\n",
        "pd.read_clipboard().columns[0]"
      ]
    },
    {
      "cell_type": "code",
      "execution_count": 2,
      "metadata": {},
      "outputs": [
        {
          "data": {
            "text/html": [
              "<div>\n",
              "<style scoped>\n",
              "    .dataframe tbody tr th:only-of-type {\n",
              "        vertical-align: middle;\n",
              "    }\n",
              "\n",
              "    .dataframe tbody tr th {\n",
              "        vertical-align: top;\n",
              "    }\n",
              "\n",
              "    .dataframe thead th {\n",
              "        text-align: right;\n",
              "    }\n",
              "</style>\n",
              "<table border=\"1\" class=\"dataframe\">\n",
              "  <thead>\n",
              "    <tr style=\"text-align: right;\">\n",
              "      <th></th>\n",
              "      <th>English</th>\n",
              "      <th>inuktitut</th>\n",
              "    </tr>\n",
              "  </thead>\n",
              "  <tbody>\n",
              "    <tr>\n",
              "      <th>0</th>\n",
              "      <td>hello</td>\n",
              "      <td>ᐊᐃ’</td>\n",
              "    </tr>\n",
              "    <tr>\n",
              "      <th>1</th>\n",
              "      <td>\"A\" is the first letter of the alphabet.</td>\n",
              "      <td>\"A\"</td>\n",
              "    </tr>\n",
              "    <tr>\n",
              "      <th>2</th>\n",
              "      <td>\"Are those your books?\" \"No, they aren't.\"</td>\n",
              "      <td>\"ᑖᒃᑯᐊ</td>\n",
              "    </tr>\n",
              "    <tr>\n",
              "      <th>3</th>\n",
              "      <td>\"Are you from Australia?\" asked the Filipino.</td>\n",
              "      <td>\"</td>\n",
              "    </tr>\n",
              "    <tr>\n",
              "      <th>4</th>\n",
              "      <td>\"Could you move over a little?\" \"Oh, sorry. I ...</td>\n",
              "      <td>\"ᓅᓚᐅᑲᒍᓐᓇᖅᐲᑦ?\"</td>\n",
              "    </tr>\n",
              "  </tbody>\n",
              "</table>\n",
              "</div>"
            ],
            "text/plain": [
              "                                             English      inuktitut\n",
              "0                                              hello            ᐊᐃ’\n",
              "1           \"A\" is the first letter of the alphabet.            \"A\"\n",
              "2         \"Are those your books?\" \"No, they aren't.\"          \"ᑖᒃᑯᐊ\n",
              "3      \"Are you from Australia?\" asked the Filipino.              \"\n",
              "4  \"Could you move over a little?\" \"Oh, sorry. I ...  \"ᓅᓚᐅᑲᒍᓐᓇᖅᐲᑦ?\""
            ]
          },
          "execution_count": 2,
          "metadata": {},
          "output_type": "execute_result"
        }
      ],
      "source": [
        "import pandas as pd\n",
        "df=pd.read_csv('parallel.csv')\n",
        "df.head()"
      ]
    }
  ],
  "metadata": {
    "colab": {
      "provenance": []
    },
    "kernelspec": {
      "display_name": "Python 3",
      "language": "python",
      "name": "python3"
    },
    "language_info": {
      "codemirror_mode": {
        "name": "ipython",
        "version": 3
      },
      "file_extension": ".py",
      "mimetype": "text/x-python",
      "name": "python",
      "nbconvert_exporter": "python",
      "pygments_lexer": "ipython3",
      "version": "3.11.0"
    },
    "orig_nbformat": 4,
    "vscode": {
      "interpreter": {
        "hash": "e956c49ae0caa224b5fdd754cbc353d7e61c6c61f7329ee680c7f7b4f1b71a8e"
      }
    }
  },
  "nbformat": 4,
  "nbformat_minor": 0
}
